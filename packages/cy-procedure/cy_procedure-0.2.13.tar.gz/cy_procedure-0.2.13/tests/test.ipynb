{
 "metadata": {
  "language_info": {
   "codemirror_mode": {
    "name": "ipython",
    "version": 3
   },
   "file_extension": ".py",
   "mimetype": "text/x-python",
   "name": "python",
   "nbconvert_exporter": "python",
   "pygments_lexer": "ipython3",
   "version": 3
  },
  "orig_nbformat": 2,
  "kernelspec": {
   "name": "python_defaultSpec_1595998742660",
   "display_name": "Python 3.7.5 64-bit"
  }
 },
 "nbformat": 4,
 "nbformat_minor": 2,
 "cells": [
  {
   "cell_type": "code",
   "execution_count": 2,
   "metadata": {
    "tags": []
   },
   "outputs": [
    {
     "output_type": "stream",
     "name": "stdout",
     "text": "**ABCDEFG**\n\n"
    }
   ],
   "source": [
    "from cy_procedure.util.logger import *\n",
    "\n",
    "p = ProcedureRecorder('f476e8e4-5bc4-4521-ad6d-f73f9364b313', MessageType.WeChatWork)\n",
    "p.append_summary_log('**ABCDEFG**')\n",
    "p.record_summary_log()"
   ]
  },
  {
   "cell_type": "code",
   "execution_count": null,
   "metadata": {},
   "outputs": [],
   "source": []
  }
 ]
}