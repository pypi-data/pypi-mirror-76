{
 "cells": [
  {
   "cell_type": "code",
   "execution_count": 23,
   "metadata": {},
   "outputs": [],
   "source": [
    "# import packages\n",
    "import pop_projection.Effectifs as eff\n",
    "import pandas as pd\n",
    "import numpy as np\n",
    "import matplotlib.pyplot as plt"
   ]
  },
  {
   "cell_type": "code",
   "execution_count": 24,
   "metadata": {},
   "outputs": [],
   "source": [
    "# Define law of retirement\n",
    "def law_ret1(age, year_emp):\n",
    "    if year_emp < 2002:\n",
    "        if age+1 >= 55:\n",
    "            return True\n",
    "        else:\n",
    "            return False\n",
    "    if year_emp >= 2002:\n",
    "        if age+1 >= 60:\n",
    "            return True\n",
    "        else:\n",
    "            return False"
   ]
  },
  {
   "cell_type": "code",
   "execution_count": 25,
   "metadata": {},
   "outputs": [],
   "source": [
    "# Define law of reignation\n",
    "def law_resignation_1(age, sexe):\n",
    "    if age+1 >= 50 :\n",
    "        return 0\n",
    "    if sexe == 'female':\n",
    "        if age+1 <= 30:\n",
    "            return 0.02\n",
    "        else:\n",
    "            return 0.01\n",
    "    if sexe == 'male':\n",
    "        if age+1 <= 30:\n",
    "            return 0.02\n",
    "        else:\n",
    "            return 0.01"
   ]
  },
  {
   "cell_type": "code",
   "execution_count": 26,
   "metadata": {},
   "outputs": [],
   "source": [
    "# Define law of marriage\n",
    "def law_mar1(age, sexe, typeAgent):\n",
    "    \"\"\"\n",
    "    Return the probability of getting maried  during the following year at a given age for a given sex\n",
    "\n",
    "    \"\"\"\n",
    "    if sexe == 'male':\n",
    "        if typeAgent=='active':\n",
    "            if age >= 25 and age <= 54:\n",
    "                return 0.095\n",
    "            else :\n",
    "                return 0\n",
    "        else:\n",
    "            return 0\n",
    "    \n",
    "    if sexe == 'female':\n",
    "        if typeAgent=='active':\n",
    "            if age >= 25 and age <= 54:\n",
    "                return 0.15\n",
    "            else :\n",
    "                return 0\n",
    "        else:\n",
    "            return 0\n"
   ]
  },
  {
   "cell_type": "code",
   "execution_count": 27,
   "metadata": {},
   "outputs": [],
   "source": [
    "# Define law of replacement   \n",
    "def law_replacement1(departures_, year_):\n",
    "    \n",
    "    '''\n",
    "        assumes departures_ is a dic storing number of departures by group of the year year_\n",
    "        returns a list of dics having keys : sex, age, number and group\n",
    "        \n",
    "    '''\n",
    "    new_employees = []\n",
    "\n",
    "    for g in departures_:\n",
    "        temp = {'sex':'male', 'age' : 30, 'number':departures_[g],'group':g}\n",
    "        new_employees.append(temp)\n",
    "    \n",
    "    return new_employees"
   ]
  },
  {
   "cell_type": "code",
   "execution_count": 28,
   "metadata": {},
   "outputs": [],
   "source": [
    "# Path for input data\n",
    "path =\"./data/\""
   ]
  },
  {
   "cell_type": "code",
   "execution_count": 29,
   "metadata": {},
   "outputs": [],
   "source": [
    "# Number of years to project\n",
    "MAX_ANNEES = 100"
   ]
  },
  {
   "cell_type": "code",
   "execution_count": 30,
   "metadata": {},
   "outputs": [],
   "source": [
    "# Loading data\n",
    "employees = pd.read_csv(path + \"employees.csv\",sep=\";\", decimal = \",\")\n",
    "spouses = pd.read_csv(path + \"spouses.csv\",sep=\";\", decimal = \",\")\n",
    "children = pd.read_csv(path + \"children.csv\",sep=\";\", decimal = \",\")"
   ]
  },
  {
   "cell_type": "code",
   "execution_count": 11,
   "metadata": {},
   "outputs": [
    {
     "name": "stdout",
     "output_type": "stream",
     "text": [
      "First lines of employees : \n",
      "     id    type     sex familyStatus  age  Year_employment  group\n",
      "0   id1  active    male      married   28             2017      3\n",
      "1   id2  active    male      married   33             2003      3\n",
      "2   id3  active  female  not married   26             2017      4\n",
      "3   id4  active  female  not married   22             2017      4\n",
      "4   id5  active    male      married   26             2017      3\n",
      "5   id6  active    male      married   21             2017      3\n",
      "6   id7  active    male      married   20             2017      3\n",
      "7   id8  active    male      married   31             2017      3\n",
      "8   id9  active  female  not married   26             2017      4\n",
      "9  id10  active    male  not married   43             1997      1\n",
      "First lines of spouses : \n",
      "      id rang     sex  age   type familyStatus\n",
      "0  id301    1  female   72  widow  not married\n",
      "1  id302    1  female   71  widow  not married\n",
      "2  id303    1  female   68  widow  not married\n",
      "3  id304    1  female   76  widow  not married\n",
      "4  id305    1  female   77  widow  not married\n",
      "5  id306    1  female   64  widow  not married\n",
      "6  id307    1  female   71  widow  not married\n",
      "7  id308    1  female   66  widow  not married\n",
      "8  id309    1  female   73  widow  not married\n",
      "9  id310    1  female   73  widow  not married\n",
      "First lines of children : \n",
      "     id  rang     sex  age    type familyStatus\n",
      "0   id1     1  female    0  active  not married\n",
      "1   id2     1  female    0  active  not married\n",
      "2   id5     1  female    0  active  not married\n",
      "3   id6     1  female    0  active  not married\n",
      "4   id7     1  female    0  active  not married\n",
      "5   id8     1  female    0  active  not married\n",
      "6  id11     1  female    0  active  not married\n",
      "7  id12     1  female    0  active  not married\n",
      "8  id14     1  female    0  active  not married\n",
      "9  id16     1  female    0  active  not married\n"
     ]
    }
   ],
   "source": [
    "# Display some lines in data\n",
    "print(\"First lines of employees : \")\n",
    "print(employees.head(10))\n",
    "print(\"First lines of spouses : \")\n",
    "print(spouses.head(10))\n",
    "print(\"First lines of children : \")\n",
    "print(children.head(10))"
   ]
  },
  {
   "cell_type": "code",
   "execution_count": 21,
   "metadata": {},
   "outputs": [],
   "source": [
    "# Projection of population\n",
    "numbers_ = eff.simulerEffectif(employees, spouses, children, 'TV 88-90', MAX_ANNEES, law_replacement_ = law_replacement1)\n",
    "\n",
    "# Get individual projected numbers\n",
    "ind_emp_numbers = eff.individual_employees_numbers(numbers_[0])\n",
    "\n",
    "# Get lives projected numbers\n",
    "employees_proj = ind_emp_numbers[0]\n",
    "\n",
    "# Display some lines of employees_proj\n",
    "print(employees_proj.head(5))"
   ]
  },
  {
   "cell_type": "code",
   "execution_count": 22,
   "metadata": {},
   "outputs": [
    {
     "ename": "KeyError",
     "evalue": "'age'",
     "output_type": "error",
     "traceback": [
      "\u001b[1;31m---------------------------------------------------------------------------\u001b[0m",
      "\u001b[1;31mKeyError\u001b[0m                                  Traceback (most recent call last)",
      "\u001b[1;32m<ipython-input-22-41c33857fc00>\u001b[0m in \u001b[0;36m<module>\u001b[1;34m()\u001b[0m\n\u001b[0;32m      3\u001b[0m \u001b[1;33m\u001b[0m\u001b[0m\n\u001b[0;32m      4\u001b[0m     \u001b[1;31m# group employees by age and sexe and select column of year (i-1)*10\u001b[0m\u001b[1;33m\u001b[0m\u001b[1;33m\u001b[0m\u001b[0m\n\u001b[1;32m----> 5\u001b[1;33m     \u001b[0memp_grouped\u001b[0m \u001b[1;33m=\u001b[0m \u001b[0memployees_proj\u001b[0m\u001b[1;33m.\u001b[0m\u001b[0mgroupby\u001b[0m\u001b[1;33m(\u001b[0m\u001b[1;33m[\u001b[0m\u001b[1;34m'age'\u001b[0m\u001b[1;33m,\u001b[0m\u001b[1;34m'sex'\u001b[0m\u001b[1;33m]\u001b[0m\u001b[1;33m,\u001b[0m \u001b[0mas_index\u001b[0m\u001b[1;33m=\u001b[0m\u001b[1;32mFalse\u001b[0m\u001b[1;33m)\u001b[0m\u001b[1;33m[\u001b[0m\u001b[0myear\u001b[0m\u001b[1;33m+\u001b[0m\u001b[0mstr\u001b[0m\u001b[1;33m(\u001b[0m\u001b[1;33m(\u001b[0m\u001b[0mi\u001b[0m\u001b[1;33m-\u001b[0m\u001b[1;36m1\u001b[0m\u001b[1;33m)\u001b[0m\u001b[1;33m*\u001b[0m\u001b[1;36m10\u001b[0m\u001b[1;33m)\u001b[0m\u001b[1;33m]\u001b[0m\u001b[1;33m.\u001b[0m\u001b[0msum\u001b[0m\u001b[1;33m(\u001b[0m\u001b[1;33m)\u001b[0m\u001b[1;33m\u001b[0m\u001b[0m\n\u001b[0m\u001b[0;32m      6\u001b[0m \u001b[1;33m\u001b[0m\u001b[0m\n\u001b[0;32m      7\u001b[0m     \u001b[1;31m# maximum age to plot in the pyramid\u001b[0m\u001b[1;33m\u001b[0m\u001b[1;33m\u001b[0m\u001b[0m\n",
      "\u001b[1;32mC:\\Anaconda_5.2.0\\lib\\site-packages\\pandas\\core\\generic.py\u001b[0m in \u001b[0;36mgroupby\u001b[1;34m(self, by, axis, level, as_index, sort, group_keys, squeeze, observed, **kwargs)\u001b[0m\n\u001b[0;32m   6663\u001b[0m         return groupby(self, by=by, axis=axis, level=level, as_index=as_index,\n\u001b[0;32m   6664\u001b[0m                        \u001b[0msort\u001b[0m\u001b[1;33m=\u001b[0m\u001b[0msort\u001b[0m\u001b[1;33m,\u001b[0m \u001b[0mgroup_keys\u001b[0m\u001b[1;33m=\u001b[0m\u001b[0mgroup_keys\u001b[0m\u001b[1;33m,\u001b[0m \u001b[0msqueeze\u001b[0m\u001b[1;33m=\u001b[0m\u001b[0msqueeze\u001b[0m\u001b[1;33m,\u001b[0m\u001b[1;33m\u001b[0m\u001b[0m\n\u001b[1;32m-> 6665\u001b[1;33m                        observed=observed, **kwargs)\n\u001b[0m\u001b[0;32m   6666\u001b[0m \u001b[1;33m\u001b[0m\u001b[0m\n\u001b[0;32m   6667\u001b[0m     def asfreq(self, freq, method=None, how=None, normalize=False,\n",
      "\u001b[1;32mC:\\Anaconda_5.2.0\\lib\\site-packages\\pandas\\core\\groupby\\groupby.py\u001b[0m in \u001b[0;36mgroupby\u001b[1;34m(obj, by, **kwds)\u001b[0m\n\u001b[0;32m   2150\u001b[0m         \u001b[1;32mraise\u001b[0m \u001b[0mTypeError\u001b[0m\u001b[1;33m(\u001b[0m\u001b[1;34m'invalid type: %s'\u001b[0m \u001b[1;33m%\u001b[0m \u001b[0mtype\u001b[0m\u001b[1;33m(\u001b[0m\u001b[0mobj\u001b[0m\u001b[1;33m)\u001b[0m\u001b[1;33m)\u001b[0m\u001b[1;33m\u001b[0m\u001b[0m\n\u001b[0;32m   2151\u001b[0m \u001b[1;33m\u001b[0m\u001b[0m\n\u001b[1;32m-> 2152\u001b[1;33m     \u001b[1;32mreturn\u001b[0m \u001b[0mklass\u001b[0m\u001b[1;33m(\u001b[0m\u001b[0mobj\u001b[0m\u001b[1;33m,\u001b[0m \u001b[0mby\u001b[0m\u001b[1;33m,\u001b[0m \u001b[1;33m**\u001b[0m\u001b[0mkwds\u001b[0m\u001b[1;33m)\u001b[0m\u001b[1;33m\u001b[0m\u001b[0m\n\u001b[0m\u001b[0;32m   2153\u001b[0m \u001b[1;33m\u001b[0m\u001b[0m\n\u001b[0;32m   2154\u001b[0m \u001b[1;33m\u001b[0m\u001b[0m\n",
      "\u001b[1;32mC:\\Anaconda_5.2.0\\lib\\site-packages\\pandas\\core\\groupby\\groupby.py\u001b[0m in \u001b[0;36m__init__\u001b[1;34m(self, obj, keys, axis, level, grouper, exclusions, selection, as_index, sort, group_keys, squeeze, observed, **kwargs)\u001b[0m\n\u001b[0;32m    597\u001b[0m                                                     \u001b[0msort\u001b[0m\u001b[1;33m=\u001b[0m\u001b[0msort\u001b[0m\u001b[1;33m,\u001b[0m\u001b[1;33m\u001b[0m\u001b[0m\n\u001b[0;32m    598\u001b[0m                                                     \u001b[0mobserved\u001b[0m\u001b[1;33m=\u001b[0m\u001b[0mobserved\u001b[0m\u001b[1;33m,\u001b[0m\u001b[1;33m\u001b[0m\u001b[0m\n\u001b[1;32m--> 599\u001b[1;33m                                                     mutated=self.mutated)\n\u001b[0m\u001b[0;32m    600\u001b[0m \u001b[1;33m\u001b[0m\u001b[0m\n\u001b[0;32m    601\u001b[0m         \u001b[0mself\u001b[0m\u001b[1;33m.\u001b[0m\u001b[0mobj\u001b[0m \u001b[1;33m=\u001b[0m \u001b[0mobj\u001b[0m\u001b[1;33m\u001b[0m\u001b[0m\n",
      "\u001b[1;32mC:\\Anaconda_5.2.0\\lib\\site-packages\\pandas\\core\\groupby\\groupby.py\u001b[0m in \u001b[0;36m_get_grouper\u001b[1;34m(obj, key, axis, level, sort, observed, mutated, validate)\u001b[0m\n\u001b[0;32m   3289\u001b[0m                 \u001b[0min_axis\u001b[0m\u001b[1;33m,\u001b[0m \u001b[0mname\u001b[0m\u001b[1;33m,\u001b[0m \u001b[0mlevel\u001b[0m\u001b[1;33m,\u001b[0m \u001b[0mgpr\u001b[0m \u001b[1;33m=\u001b[0m \u001b[1;32mFalse\u001b[0m\u001b[1;33m,\u001b[0m \u001b[1;32mNone\u001b[0m\u001b[1;33m,\u001b[0m \u001b[0mgpr\u001b[0m\u001b[1;33m,\u001b[0m \u001b[1;32mNone\u001b[0m\u001b[1;33m\u001b[0m\u001b[0m\n\u001b[0;32m   3290\u001b[0m             \u001b[1;32melse\u001b[0m\u001b[1;33m:\u001b[0m\u001b[1;33m\u001b[0m\u001b[0m\n\u001b[1;32m-> 3291\u001b[1;33m                 \u001b[1;32mraise\u001b[0m \u001b[0mKeyError\u001b[0m\u001b[1;33m(\u001b[0m\u001b[0mgpr\u001b[0m\u001b[1;33m)\u001b[0m\u001b[1;33m\u001b[0m\u001b[0m\n\u001b[0m\u001b[0;32m   3292\u001b[0m         \u001b[1;32melif\u001b[0m \u001b[0misinstance\u001b[0m\u001b[1;33m(\u001b[0m\u001b[0mgpr\u001b[0m\u001b[1;33m,\u001b[0m \u001b[0mGrouper\u001b[0m\u001b[1;33m)\u001b[0m \u001b[1;32mand\u001b[0m \u001b[0mgpr\u001b[0m\u001b[1;33m.\u001b[0m\u001b[0mkey\u001b[0m \u001b[1;32mis\u001b[0m \u001b[1;32mnot\u001b[0m \u001b[1;32mNone\u001b[0m\u001b[1;33m:\u001b[0m\u001b[1;33m\u001b[0m\u001b[0m\n\u001b[0;32m   3293\u001b[0m             \u001b[1;31m# Add key to exclusions\u001b[0m\u001b[1;33m\u001b[0m\u001b[1;33m\u001b[0m\u001b[0m\n",
      "\u001b[1;31mKeyError\u001b[0m: 'age'"
     ]
    }
   ],
   "source": [
    "# costruct and plot Ages pyramid each 10 year, starting from year 0\n",
    "for i in range(1, MAX_ANNEES//10):\n",
    "    \n",
    "    # group employees by age and sexe and select column of year (i-1)*10\n",
    "    emp_grouped = employees_proj.groupby(['age','sex'], as_index=False)[year+str((i-1)*10)].sum()\n",
    "    \n",
    "    # maximum age to plot in the pyramid\n",
    "    max_age = 56 # 101\n",
    "    \n",
    "    # minimum age to plot in the pyramid\n",
    "    min_age = 19\n",
    "    \n",
    "    #update colum age to be age at year (i-1)*10, because age represente age at the end of simulation \n",
    "    emp_grouped['age'] = emp_grouped['age'] - MAX_ANNEES + (i-1)*10\n",
    "    \n",
    "    # select rows that have age between limits\n",
    "    emp_grouped = emp_grouped.loc[(emp_grouped['age'] < max_age) & (emp_grouped['age'] > min_age)]\n",
    "    \n",
    "    # create pivot table to have numbers for each age (row) and for each sex (column)\n",
    "    table = pd.pivot_table(emp_grouped, values=year+str((i-1)*10), index=['age'],  columns=['sex'], aggfunc=np.sum)\n",
    "    \n",
    "    # replace nas by zero\n",
    "    table = table.fillna(0)\n",
    "    \n",
    "    #calculate percentage\n",
    "    if 'male' in list(table.columns):\n",
    "        table['male'] = table['male']/np.sum(table['male'])\n",
    "    if 'female' in list(table.columns):\n",
    "        table['female'] = table['female']/np.sum(table['female'])\n",
    "    \n",
    "    \n",
    "    if 'female' in list(table.columns):\n",
    "        table['female'] = table['female'] * (-1)\n",
    "    \n",
    "    # pyramids will be ploted in 4*4 grid\n",
    "    plt.subplot(4 , 4, i)  # i is the index of the plot in this grid\n",
    "    \n",
    "    # vertical spacing between pyramids\n",
    "    plt.subplots_adjust(hspace = 0.5)\n",
    "    \n",
    "    # min and max of x-axis (percentage)\n",
    "    plt.xlim(-0.05,0.05)\n",
    "    \n",
    "    #title of one pyramid\n",
    "    plt.title('Year ' + str((i-1)*10))\n",
    "    \n",
    "    # title of all pyramids\n",
    "    plt.suptitle('Evolution of Ages Pyramid')\n",
    "    \n",
    "    #legend of all pyramids\n",
    "    plt.figlegend((p_male[0], p_female[0]), ('Men', 'Women'), loc = 'lower center')\n",
    "    \n",
    "    # ploting the pyramid using horizontal bar (barh)\n",
    "    # vertical axis --> ages, horizontal axis --> percentages\n",
    "    if 'male' in list(table.columns):\n",
    "        values = [0] * (max_age - min_age - 1)\n",
    "        for i in range(len(table['male'])):\n",
    "            values[table.index[i] - min_age - 1] = table.iloc[i]['male']\n",
    "        p_male = plt.barh(list(range(min_age + 1, max_age)), values, color = (149/255,125/255,98/255) )\n",
    "    \n",
    "    if 'female' in list(table.columns):\n",
    "        for i in range(len(table['female'])):\n",
    "            values[table.index[i] - min_age - 1] = table.iloc[i]['female']\n",
    "        p_female = plt.barh(list(range(min_age + 1, max_age)), values, color = (0/255,128/255,0/255))\n",
    "\n",
    "\n",
    "    \n",
    "    "
   ]
  },
  {
   "cell_type": "code",
   "execution_count": null,
   "metadata": {},
   "outputs": [],
   "source": []
  }
 ],
 "metadata": {
  "kernelspec": {
   "display_name": "Python 3",
   "language": "python",
   "name": "python3"
  },
  "language_info": {
   "codemirror_mode": {
    "name": "ipython",
    "version": 3
   },
   "file_extension": ".py",
   "mimetype": "text/x-python",
   "name": "python",
   "nbconvert_exporter": "python",
   "pygments_lexer": "ipython3",
   "version": "3.6.6"
  }
 },
 "nbformat": 4,
 "nbformat_minor": 2
}
