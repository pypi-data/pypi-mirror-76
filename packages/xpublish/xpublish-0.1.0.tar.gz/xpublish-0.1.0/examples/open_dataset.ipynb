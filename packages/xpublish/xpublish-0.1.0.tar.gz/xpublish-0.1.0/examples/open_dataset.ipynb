{
 "cells": [
  {
   "cell_type": "code",
   "execution_count": null,
   "metadata": {},
   "outputs": [],
   "source": [
    "from json import loads\n",
    "\n",
    "import numpy as np\n",
    "import xarray as xr\n",
    "import zarr\n",
    "from dask.distributed import Client\n",
    "from fsspec.implementations.http import HTTPFileSystem\n",
    "from xarray.testing import assert_chunks_equal, assert_equal, assert_identical\n",
    "\n",
    "import xpublish"
   ]
  },
  {
   "cell_type": "code",
   "execution_count": null,
   "metadata": {},
   "outputs": [],
   "source": [
    "# Let's check to make sure our server started alright\n",
    "!head ../logfile.txt"
   ]
  },
  {
   "cell_type": "code",
   "execution_count": null,
   "metadata": {},
   "outputs": [],
   "source": [
    "# Start a dask cluster for use on the client side\n",
    "client = Client(n_workers=4, dashboard_address=43757)\n",
    "client"
   ]
  },
  {
   "cell_type": "markdown",
   "metadata": {},
   "source": [
    "You can now open three more browser tabs/windows:\n",
    "\n",
    "_Note that you will have to modify the url prefix slightly, to do this, just copy the first part of your browser's URL_\n",
    "\n",
    "1. Xpublish Web App: e.g. https://hub.gke.mybinder.org/user/jhamman-xpublish-gbbqbxfi/proxy/9000\n",
    "2. Xpublish's Dask Cluster Dashboard:  e.g. https://hub.gke.mybinder.org/user/jhamman-xpublish-gbbqbxfi/proxy/8787/status\n",
    "3. This Notebook's Dask Cluster Dashboard: e.g. https://hub.gke.mybinder.org/user/jhamman-xpublish-gbbqbxfi/proxy/43757/status\n",
    "\n",
    "_Also note that this port numbers may change. The server side ports are available in `logfile.txt` (see above) and the client-side port is in the cell above._"
   ]
  },
  {
   "cell_type": "code",
   "execution_count": null,
   "metadata": {},
   "outputs": [],
   "source": [
    "# We can access our API using fsspec's HTTPFileSystem\n",
    "fs = HTTPFileSystem()\n",
    "\n",
    "# The http mapper gives us a dict-like interface to the API\n",
    "http_map = fs.get_mapper(\"http://0.0.0.0:9000\")"
   ]
  },
  {
   "cell_type": "code",
   "execution_count": null,
   "metadata": {},
   "outputs": [],
   "source": [
    "# We can access API enpoints by key now...\n",
    "for key in [\".zmetadata\", \"keys\"]:\n",
    "    print(key, http_map[key], \"\\n\")"
   ]
  },
  {
   "cell_type": "code",
   "execution_count": null,
   "metadata": {},
   "outputs": [],
   "source": [
    "# The .zmetadata key returns the json dictionary of consolidated zarr metadata\n",
    "# We can load/decode that and access one array's attributes\n",
    "d = loads(http_map[\".zmetadata\"])\n",
    "d[\"metadata\"][\"air/.zattrs\"]"
   ]
  },
  {
   "cell_type": "code",
   "execution_count": null,
   "metadata": {},
   "outputs": [],
   "source": [
    "# We can pass that mapper object directly to zarr's open_consolidated function\n",
    "# This returns a zarr groups\n",
    "zg = zarr.open_consolidated(http_map, mode=\"r\")\n",
    "zg.tree()"
   ]
  },
  {
   "cell_type": "code",
   "execution_count": null,
   "metadata": {},
   "outputs": [],
   "source": [
    "# And we can do the same with xarray's open_zarr function\n",
    "ds = xr.open_zarr(http_map, consolidated=True)\n",
    "ds"
   ]
  },
  {
   "cell_type": "code",
   "execution_count": null,
   "metadata": {},
   "outputs": [],
   "source": [
    "# The rest of this notebook applies some simple tests to show that the served dataset is indentical to the\n",
    "# \"air_temperature\" dataset in xarray's tutorial dataset.\n",
    "ds_tutorial = xr.tutorial.open_dataset(\n",
    "    \"air_temperature\", chunks=dict(lat=5, lon=5), decode_cf=True\n",
    ")"
   ]
  },
  {
   "cell_type": "code",
   "execution_count": null,
   "metadata": {},
   "outputs": [],
   "source": [
    "ds_tutorial.air.attrs"
   ]
  },
  {
   "cell_type": "code",
   "execution_count": null,
   "metadata": {},
   "outputs": [],
   "source": [
    "def test(actual, expected, index):\n",
    "    \"\"\"a simple equality test with index as a parameter\"\"\"\n",
    "    assert np.array_equal(actual[index].values, expected[index].values)"
   ]
  },
  {
   "cell_type": "code",
   "execution_count": null,
   "metadata": {},
   "outputs": [],
   "source": [
    "# test a bunch of indexing patterns\n",
    "for index in [\n",
    "    (0, 0, 0),\n",
    "    (slice(0, 4), 0, 0),\n",
    "    (slice(0, 4), slice(0, 4), 0),\n",
    "    (slice(0, 4), slice(0, 4), slice(0, 4)),\n",
    "    (slice(-4), slice(0, 4), slice(0, 4)),\n",
    "    (slice(None), slice(0, 4), slice(0, 4)),\n",
    "    (slice(None), slice(None), slice(0, 4)),\n",
    "    (slice(None), slice(None), slice(None)),\n",
    "]:\n",
    "    print(index)\n",
    "    test(ds_tutorial[\"air\"], ds[\"air\"], index)"
   ]
  },
  {
   "cell_type": "code",
   "execution_count": null,
   "metadata": {},
   "outputs": [],
   "source": [
    "assert_equal(ds, ds_tutorial)\n",
    "assert_chunks_equal(ds, ds_tutorial)\n",
    "assert_identical(ds, ds_tutorial)"
   ]
  },
  {
   "cell_type": "code",
   "execution_count": null,
   "metadata": {},
   "outputs": [],
   "source": []
  }
 ],
 "metadata": {
  "kernelspec": {
   "display_name": "Python 3",
   "language": "python",
   "name": "python3"
  },
  "language_info": {
   "codemirror_mode": {
    "name": "ipython",
    "version": 3
   },
   "file_extension": ".py",
   "mimetype": "text/x-python",
   "name": "python",
   "nbconvert_exporter": "python",
   "pygments_lexer": "ipython3",
   "version": "3.7.6"
  }
 },
 "nbformat": 4,
 "nbformat_minor": 4
}
