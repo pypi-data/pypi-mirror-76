{
 "cells": [
  {
   "cell_type": "code",
   "execution_count": 1,
   "metadata": {
    "collapsed": true,
    "id": "setup"
   },
   "outputs": [],
   "source": [
    "from selenium import webdriver\n",
    "from webdriver_components.pageobjects import Component, Css\n",
    "import urllib\n",
    "\n",
    "# For these demos we're so lazy we're not even bothering to create any files on disk;\n",
    "# we're going to serve our content directly from strings using data: urls.\n",
    "# https://developer.mozilla.org/en-US/docs/Web/HTTP/Basics_of_HTTP/Data_URIs\n",
    "def open_page(driver, html):\n",
    "    driver.get(\"data:text/html,\" + urllib.parse.quote(html))\n",
    "    \n",
    "# Or whichever browser you like\n",
    "driver = webdriver.Chrome()"
   ]
  },
  {
   "cell_type": "code",
   "execution_count": 2,
   "metadata": {
    "collapsed": true,
    "id": "NameForm"
   },
   "outputs": [],
   "source": [
    "class NameForm(Component):\n",
    "    first_name = Css('.first-name')\n",
    "    last_name = Css('.last-name')"
   ]
  },
  {
   "cell_type": "code",
   "execution_count": 3,
   "metadata": {
    "collapsed": true,
    "id": "NameForm_usage"
   },
   "outputs": [],
   "source": [
    "open_page(driver, \"\"\"\n",
    "    First name <input class=\"first-name\"> <br />\n",
    "    Last name <input class=\"last-name\">\n",
    "\"\"\")\n",
    "\n",
    "# Connect a NameForm to the WebDriver. This doesn't interact with the page yet.\n",
    "form = NameForm(driver)\n",
    "\n",
    "# Now we can type into the text boxes:\n",
    "form.first_name.set_text('Andrew')\n",
    "form.last_name.set_text('Magee')\n",
    "\n",
    "# And assert that we did it right:\n",
    "assert form.first_name.value == 'Andrew'\n",
    "assert form.last_name.value == 'Magee'"
   ]
  },
  {
   "cell_type": "code",
   "execution_count": 4,
   "metadata": {
    "collapsed": true
   },
   "outputs": [],
   "source": [
    "class NameForm(Component):\n",
    "    first_name = Css('.first-name')\n",
    "    last_name = Css('.last-name')\n",
    "    \n",
    "    def set_name(self, first_name, last_name):\n",
    "        self.first_name.set_text(first_name)\n",
    "        self.last_name.set_text(last_name)\n",
    "\n",
    "open_page(driver, \"\"\"\n",
    "    First name <input class=\"first-name\"> <br />\n",
    "    Last name <input class=\"last-name\">\n",
    "\"\"\")\n",
    "form = NameForm(driver)\n",
    "form.set_name('Andrew', 'Magee')\n",
    "assert form.first_name.value == 'Andrew'\n",
    "assert form.last_name.value == 'Magee'"
   ]
  },
  {
   "cell_type": "code",
   "execution_count": 5,
   "metadata": {
    "collapsed": true,
    "id": "MultipleNameForms"
   },
   "outputs": [],
   "source": [
    "class MultipleNameForms(Component):\n",
    "    # Note that the `factory` parameter is a callable that returns the\n",
    "    # `Component`-subclass we want. This is so we can define the sub-components\n",
    "    # after the super-components, to structure our source file in a natural way.\n",
    "    name_form_1 = Css('.name-form-1', factory=lambda: NameForm)\n",
    "    name_form_2 = Css('.name-form-2', factory=lambda: NameForm)"
   ]
  },
  {
   "cell_type": "code",
   "execution_count": 6,
   "metadata": {
    "collapsed": true,
    "id": "MultipleNameForms_usage"
   },
   "outputs": [],
   "source": [
    "open_page(driver, \"\"\"\n",
    "    <div class=\"name-form-1\">\n",
    "        <h3>Name form 1</h3>\n",
    "        First name <input class=\"first-name\"> <br />\n",
    "        Last name <input class=\"last-name\">\n",
    "    </div>\n",
    "    <div class=\"name-form-2\">\n",
    "        <h3>Name form 2</h3>\n",
    "        First name <input class=\"first-name\"> <br />\n",
    "        Last name <input class=\"last-name\">\n",
    "    </div>\n",
    "\"\"\")\n",
    "\n",
    "forms = MultipleNameForms(driver)\n",
    "forms.name_form_1.set_name('Andrew', 'Magee')\n",
    "forms.name_form_2.set_name('Sally', 'Smith')\n",
    "\n",
    "assert forms.name_form_1.first_name.value == 'Andrew'\n",
    "assert forms.name_form_2.first_name.value == 'Sally'"
   ]
  },
  {
   "cell_type": "code",
   "execution_count": 7,
   "metadata": {
    "collapsed": true,
    "id": "ListPage"
   },
   "outputs": [],
   "source": [
    "class ListPage(Component):\n",
    "    list_items = Css(\".mylist li\", multiple=True)\n",
    "\n",
    "open_page(driver, \"\"\"\n",
    "  <ul class=\"mylist\">\n",
    "    <li>first item</li>\n",
    "    <li>second item</li>\n",
    "    <li>third item</li>\n",
    "  </ul>\n",
    "\"\"\")\n",
    "\n",
    "list_page = ListPage(driver)\n",
    "# list_page.list_items is list-like, we can index it:\n",
    "assert list_page.list_items[1].text == 'second item'\n",
    "# and iterate through it:\n",
    "assert [l.text for l in list_page.list_items] == [\n",
    "    'first item',\n",
    "    'second item',\n",
    "    'third item'\n",
    "]"
   ]
  },
  {
   "cell_type": "code",
   "execution_count": 8,
   "metadata": {
    "collapsed": true,
    "id": "FactoryListPage"
   },
   "outputs": [],
   "source": [
    "class FactoryListPage(Component):\n",
    "    list_items = Css(\".mylist li\", multiple=True, factory=lambda: MyListItem)\n",
    "\n",
    "class MyListItem(Component):\n",
    "    name = Css(\".name\")\n",
    "    email = Css(\".email\")\n",
    "\n",
    "open_page(driver, \"\"\"\n",
    "  <ul class=\"mylist\">\n",
    "    <li>\n",
    "        <span class=\"name\">Andrew Magee</span>\n",
    "        <span class=\"email\">amagee@example.com</span>\n",
    "    </li>\n",
    "    <li>\n",
    "        <span class=\"name\">Sally Smith</span>\n",
    "        <span class=\"email\">sally@example.com</span>\n",
    "    </li>\n",
    "  </ul>\n",
    "\"\"\")\n",
    "\n",
    "factory_list_page = FactoryListPage(driver)\n",
    "assert factory_list_page.list_items[1].email.text == \"sally@example.com\"\n"
   ]
  },
  {
   "cell_type": "code",
   "execution_count": 9,
   "metadata": {
    "id": "DelayedButtonPage"
   },
   "outputs": [
    {
     "name": "stdout",
     "output_type": "stream",
     "text": [
      "Message: element not visible\n",
      "  (Session info: chrome=59.0.3071.115)\n",
      "  (Driver info: chromedriver=2.29.461571 (8a88bbe0775e2a23afda0ceaf2ef7ee74e822cc5),platform=Linux 4.8.0-58-generic x86_64)\n",
      "\n",
      "Message: element not visible\n",
      "  (Session info: chrome=59.0.3071.115)\n",
      "  (Driver info: chromedriver=2.29.461571 (8a88bbe0775e2a23afda0ceaf2ef7ee74e822cc5),platform=Linux 4.8.0-58-generic x86_64)\n",
      "\n",
      "Message: element not visible\n",
      "  (Session info: chrome=59.0.3071.115)\n",
      "  (Driver info: chromedriver=2.29.461571 (8a88bbe0775e2a23afda0ceaf2ef7ee74e822cc5),platform=Linux 4.8.0-58-generic x86_64)\n",
      "\n",
      "Message: element not visible\n",
      "  (Session info: chrome=59.0.3071.115)\n",
      "  (Driver info: chromedriver=2.29.461571 (8a88bbe0775e2a23afda0ceaf2ef7ee74e822cc5),platform=Linux 4.8.0-58-generic x86_64)\n",
      "\n"
     ]
    }
   ],
   "source": [
    "class DelayedButtonPage(Component):\n",
    "    button = Css('#mybutton')\n",
    "    output = Css('#output')\n",
    "\n",
    "open_page(driver, \"\"\"\n",
    "  <button id=\"mybutton\" style=\"display: none;\">Click me</button>\n",
    "  <span id=\"output\"></span>\n",
    "  <script>\n",
    "    window.onload = function() {\n",
    "      var button = document.getElementById('mybutton');\n",
    "      button.addEventListener('click', function() {\n",
    "        document.getElementById('output').innerHTML = 'clicked!';\n",
    "      });\n",
    "      setTimeout(function() {\n",
    "        document.getElementById('mybutton').style.display = 'inline';\n",
    "      }, 1000);\n",
    "    };\n",
    "  </script>\n",
    "\"\"\")\n",
    "\n",
    "delayed_button_page = DelayedButtonPage(driver)\n",
    "delayed_button_page.button.click()\n",
    "assert delayed_button_page.output.text == \"clicked!\"\n"
   ]
  }
 ],
 "metadata": {
  "celltoolbar": "Edit Metadata",
  "kernelspec": {
   "display_name": "Python 3",
   "language": "python",
   "name": "python3"
  },
  "language_info": {
   "codemirror_mode": {
    "name": "ipython",
    "version": 3
   },
   "file_extension": ".py",
   "mimetype": "text/x-python",
   "name": "python",
   "nbconvert_exporter": "python",
   "pygments_lexer": "ipython3",
   "version": "3.5.2+"
  }
 },
 "nbformat": 4,
 "nbformat_minor": 2
}
