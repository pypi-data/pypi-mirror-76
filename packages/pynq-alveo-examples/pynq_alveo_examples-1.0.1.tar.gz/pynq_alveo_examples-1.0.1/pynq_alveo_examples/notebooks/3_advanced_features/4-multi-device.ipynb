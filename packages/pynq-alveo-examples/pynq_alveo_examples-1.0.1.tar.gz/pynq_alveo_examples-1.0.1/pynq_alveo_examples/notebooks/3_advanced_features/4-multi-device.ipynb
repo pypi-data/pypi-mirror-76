{
 "cells": [
  {
   "cell_type": "markdown",
   "metadata": {},
   "source": [
    "# Multi-device scenario\n",
    "\n",
    "There may be cases in which more than one board is installed in your system. The different devices will be accessible as a list from the `devices` property of the `pynq.Device` class.\n",
    "\n",
    "For instance, to list all the available devices, the following code could be run:"
   ]
  },
  {
   "cell_type": "code",
   "execution_count": 1,
   "metadata": {},
   "outputs": [
    {
     "data": {
      "application/javascript": [
       "\n",
       "try {\n",
       "require(['notebook/js/codecell'], function(codecell) {\n",
       "  codecell.CodeCell.options_default.highlight_modes[\n",
       "      'magic_text/x-csrc'] = {'reg':[/^%%microblaze/]};\n",
       "  Jupyter.notebook.events.one('kernel_ready.Kernel', function(){\n",
       "      Jupyter.notebook.get_cells().map(function(cell){\n",
       "          if (cell.cell_type == 'code'){ cell.auto_highlight(); } }) ;\n",
       "  });\n",
       "});\n",
       "} catch (e) {};\n"
      ]
     },
     "metadata": {},
     "output_type": "display_data"
    },
    {
     "name": "stdout",
     "output_type": "stream",
     "text": [
      "0) xilinx_u200_xdma_201830_2\n",
      "1) xilinx_u250_xdma_201830_2\n"
     ]
    }
   ],
   "source": [
    "from pynq import Device\n",
    "devices = Device.devices\n",
    "for i in range(len(devices)):\n",
    "    print(\"{}) {}\".format(i, devices[i].name))"
   ]
  },
  {
   "cell_type": "markdown",
   "metadata": {},
   "source": [
    "You can explicitly refer to a target device when downloading an overlay by passing the `device` argument when you instantiate a `pynq.Overlay` object. Of course, you have to make sure the overlay you are trying to load is compatible with the target device, or an exception will be raised.\n",
    "\n",
    "In this case, we'll use the last device in the list of devices, using `-1` as index."
   ]
  },
  {
   "cell_type": "code",
   "execution_count": 2,
   "metadata": {},
   "outputs": [],
   "source": [
    "from pynq import Overlay\n",
    "\n",
    "ol = Overlay(\"advanced.xclbin\", device=devices[-1])"
   ]
  },
  {
   "cell_type": "markdown",
   "metadata": {},
   "source": [
    "However, if you want to avoid that, you can also change the `Device.active_device` property and set it to point to the device you want to target by default.\n",
    "\n",
    "In this case, we are going to set `Device.active_device` so that the last device (i.e. `xilinx_u250_xdma_201830_2`) is used."
   ]
  },
  {
   "cell_type": "code",
   "execution_count": 3,
   "metadata": {},
   "outputs": [],
   "source": [
    "Device.active_device = devices[-1]"
   ]
  },
  {
   "cell_type": "markdown",
   "metadata": {},
   "source": [
    "From this point forward, `xilinx_u250_xdma_201830_2` will be the default target device, so in case you are trying to reprogram this device, you won't have to specify the `device` argument anymore when instantiating the overlay"
   ]
  },
  {
   "cell_type": "code",
   "execution_count": 4,
   "metadata": {},
   "outputs": [],
   "source": [
    "ol = Overlay(\"advanced.xclbin\")"
   ]
  },
  {
   "cell_type": "markdown",
   "metadata": {},
   "source": [
    "Copyright (C) 2020 Xilinx, Inc"
   ]
  }
 ],
 "metadata": {
  "kernelspec": {
   "display_name": "Python 3",
   "language": "python",
   "name": "python3"
  },
  "language_info": {
   "codemirror_mode": {
    "name": "ipython",
    "version": 3
   },
   "file_extension": ".py",
   "mimetype": "text/x-python",
   "name": "python",
   "nbconvert_exporter": "python",
   "pygments_lexer": "ipython3",
   "version": "3.7.1"
  }
 },
 "nbformat": 4,
 "nbformat_minor": 2
}
