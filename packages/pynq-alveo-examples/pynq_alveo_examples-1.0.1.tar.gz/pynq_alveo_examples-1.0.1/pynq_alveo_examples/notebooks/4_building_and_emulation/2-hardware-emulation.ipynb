{
 "cells": [
  {
   "cell_type": "markdown",
   "metadata": {},
   "source": [
    "# Hardware Emulation and PYNQ\n",
    "\n",
    "This notebook shows how to set up PYNQ to use the Vitis hardware emulator rather than real hardware. The starting point is to build the emulation xclbin file which follows the exact same steps as for building one for real hardware. You can see the *Building with Vitis* notebook alongside this one for more details on the commands used.\n",
    "\n",
    "The only change we need to make is to pass `-t hw_emu` to the `v++` tool."
   ]
  },
  {
   "cell_type": "code",
   "execution_count": 1,
   "metadata": {},
   "outputs": [
    {
     "name": "stdout",
     "output_type": "stream",
     "text": [
      "Overwriting vadd.c\n"
     ]
    }
   ],
   "source": [
    "%%writefile vadd.c\n",
    "\n",
    "void vadd(int* in_a, int* in_b, int* out_c, int count) {\n",
    "#pragma HLS INTERFACE m_axi port=in_a offset=slave\n",
    "#pragma HLS INTERFACE s_axilite port=in_a bundle=control\n",
    "#pragma HLS INTERFACE m_axi port=in_b offset=slave\n",
    "#pragma HLS INTERFACE s_axilite port=in_b bundle=control\n",
    "#pragma HLS INTERFACE m_axi port=out_c offset=slave\n",
    "#pragma HLS INTERFACE s_axilite port=out_c bundle=control\n",
    "#pragma HLS INTERFACE s_axilite port=count bundle=control\n",
    "#pragma HLS INTERFACE s_axilite port=return bundle=control\n",
    "    for (int i = 0; i < count; ++i) {\n",
    "        *out_c++ = *in_a++ + *in_b++;\n",
    "    }\n",
    "}"
   ]
  },
  {
   "cell_type": "code",
   "execution_count": 2,
   "metadata": {},
   "outputs": [],
   "source": [
    "import glob\n",
    "\n",
    "platform = glob.glob(\"/opt/xilinx/platforms/*/*.xpfm\")[0]"
   ]
  },
  {
   "cell_type": "code",
   "execution_count": 3,
   "metadata": {
    "scrolled": true
   },
   "outputs": [
    {
     "name": "stdout",
     "output_type": "stream",
     "text": [
      "Option Map File Used: '/opt/xilinx/2019.2/data/vitis/vpp/optMap.xml'\n",
      "\n",
      "****** v++ v2019.2 (64-bit)\n",
      "  **** SW Build 2708876 on Wed Nov  6 21:39:14 MST 2019\n",
      "    ** Copyright 1986-2019 Xilinx, Inc. All Rights Reserved.\n",
      "\n",
      "INFO: [v++ 60-1306] Additional information associated with this v++ compile can be found at:\n",
      "\tReports: /home/xilinx/notebook/_x/reports/vadd\n",
      "\tLog files: /home/xilinx/notebook/_x/logs/vadd\n",
      "Running Dispatch Server on port:34805\n",
      "INFO: [v++ 60-1548] Creating build summary session with primary output /home/xilinx/notebook/vadd.xo.compile_summary, at Mon Jan 27 20:04:45 2020\n",
      "INFO: [v++ 60-1316] Initiating connection to rulecheck server, at Mon Jan 27 20:04:45 2020\n",
      "Running Rule Check Server on port:36071\n",
      "INFO: [v++ 60-1315] Creating rulecheck session with output '/home/xilinx/notebook/_x/reports/vadd/v++_compile_vadd_guidance.html', at Mon Jan 27 20:04:47 2020\n",
      "INFO: [v++ 60-895]   Target platform: /opt/xilinx/platforms/xilinx_u200_xdma_201830_2/xilinx_u200_xdma_201830_2.xpfm\n",
      "INFO: [v++ 60-1578]   This platform contains Device Support Archive '/opt/xilinx/platforms/xilinx_u200_xdma_201830_2/hw/xilinx_u200_xdma_201830_2.dsa'\n",
      "INFO: [v++ 60-585] Compiling for hardware emulation target\n",
      "INFO: [v++ 60-423]   Target device: xilinx_u200_xdma_201830_2\n",
      "INFO: [v++ 60-242] Creating kernel: 'vadd'\n",
      "\n",
      "===>The following messages were generated while  performing high-level synthesis for kernel: vadd Log file: /home/xilinx/notebook/_x/vadd/vadd/vivado_hls.log :\n",
      "INFO: [v++ 204-61] Option 'relax_ii_for_timing' is enabled, will increase II to preserve clock frequency constraints.\n",
      "INFO: [v++ 204-61] Pipelining loop 'Loop 1'.\n",
      "WARNING: [v++ 204-69] Unable to schedule bus request on port 'gmem' (/home/xilinx/notebook/vadd.c:9) due to limited memory ports. Please consider using a memory core with more ports or partitioning the array.\n",
      "INFO: [v++ 204-61] Pipelining result : Target II = 1, Final II = 2, Depth = 12.\n",
      "INFO: [v++ 200-790] **** Loop Constraint Status: All loop constraints were NOT satisfied.\n",
      "INFO: [v++ 200-789] **** Estimated Fmax: 411.02 MHz\n",
      "INFO: [v++ 60-594] Finished kernel compilation\n",
      "INFO: [v++ 60-244] Generating system estimate report...\n",
      "INFO: [v++ 60-1092] Generated system estimate report: /home/xilinx/notebook/_x/reports/vadd/system_estimate_vadd.xtxt\n",
      "WARNING: [v++ 17-1525] IP definition with the same IP name already exists in XO container. Will overwrite the existing IP definition.\n",
      "INFO: [v++ 60-586] Created vadd.xo\n",
      "INFO: [v++ 60-791] Total elapsed time: 0h 0m 57s\n"
     ]
    }
   ],
   "source": [
    "!v++ -c vadd.c -t hw_emu --kernel vadd -f $platform -o vadd.xo"
   ]
  },
  {
   "cell_type": "markdown",
   "metadata": {},
   "source": [
    "The output is the `vadd.xo` file which contains the compiled kernel"
   ]
  },
  {
   "cell_type": "code",
   "execution_count": 10,
   "metadata": {
    "scrolled": true
   },
   "outputs": [
    {
     "name": "stdout",
     "output_type": "stream",
     "text": [
      "Option Map File Used: '/opt/xilinx/2019.2/data/vitis/vpp/optMap.xml'\n",
      "\n",
      "****** v++ v2019.2 (64-bit)\n",
      "  **** SW Build 2708876 on Wed Nov  6 21:39:14 MST 2019\n",
      "    ** Copyright 1986-2019 Xilinx, Inc. All Rights Reserved.\n",
      "\n",
      "INFO: [v++ 60-1306] Additional information associated with this v++ link can be found at:\n",
      "\tReports: /home/xilinx/notebook/_x/reports/link\n",
      "\tLog files: /home/xilinx/notebook/_x/logs/link\n",
      "Running Dispatch Server on port:40752\n",
      "INFO: [v++ 60-1548] Creating build summary session with primary output /home/xilinx/notebook/vadd_emu.xclbin.link_summary, at Mon Jan 27 20:06:19 2020\n",
      "INFO: [v++ 60-1316] Initiating connection to rulecheck server, at Mon Jan 27 20:06:19 2020\n",
      "Running Rule Check Server on port:43125\n",
      "INFO: [v++ 60-1315] Creating rulecheck session with output '/home/xilinx/notebook/_x/reports/link/v++_link_vadd_emu_guidance.html', at Mon Jan 27 20:06:20 2020\n",
      "INFO: [v++ 60-895]   Target platform: /opt/xilinx/platforms/xilinx_u200_xdma_201830_2/xilinx_u200_xdma_201830_2.xpfm\n",
      "INFO: [v++ 60-1578]   This platform contains Device Support Archive '/opt/xilinx/platforms/xilinx_u200_xdma_201830_2/hw/xilinx_u200_xdma_201830_2.dsa'\n",
      "INFO: [v++ 60-629] Linking for hardware emulation target\n",
      "INFO: [v++ 60-423]   Target device: xilinx_u200_xdma_201830_2\n",
      "INFO: [v++ 60-1332] Run 'run_link' status: Not started\n",
      "INFO: [v++ 60-1443] [20:06:29] Run run_link: Step system_link: Started\n",
      "INFO: [v++ 60-1453] Command Line: system_link --xo /home/xilinx/notebook/vadd.xo --xpfm /opt/xilinx/platforms/xilinx_u200_xdma_201830_2/xilinx_u200_xdma_201830_2.xpfm --target emu --output_dir /home/xilinx/notebook/_x/link/int --temp_dir /home/xilinx/notebook/_x/link/sys_link\n",
      "INFO: [v++ 60-1454] Run Directory: /home/xilinx/notebook/_x/link/run_link\n",
      "INFO: [SYSTEM_LINK 82-76] Reading emulation BD and HPFM information\n",
      "INFO: [SYSTEM_LINK 60-1316] Initiating connection to rulecheck server, at Mon Jan 27 20:06:30 2020\n",
      "INFO: [SYSTEM_LINK 82-70] Extracting xo v3 file /home/xilinx/notebook/vadd.xo\n",
      "INFO: [KernelCheck 83-118] 'vadd' kernel.xml and component.xml caseness discrepency is being corrected, S_AXI_CONTROL is being replaced by s_axi_control\n",
      "INFO: [KernelCheck 83-118] 'in_a' kernel.xml and component.xml caseness discrepency is being corrected, S_AXI_CONTROL is being replaced by s_axi_control\n",
      "INFO: [KernelCheck 83-118] 'in_b' kernel.xml and component.xml caseness discrepency is being corrected, S_AXI_CONTROL is being replaced by s_axi_control\n",
      "INFO: [KernelCheck 83-118] 'out_c' kernel.xml and component.xml caseness discrepency is being corrected, S_AXI_CONTROL is being replaced by s_axi_control\n",
      "INFO: [KernelCheck 83-118] 'count' kernel.xml and component.xml caseness discrepency is being corrected, S_AXI_CONTROL is being replaced by s_axi_control\n",
      "INFO: [SYSTEM_LINK 82-53] Creating IP database /home/xilinx/notebook/_x/link/sys_link/_sysl/.cdb/xd_ip_db.xml\n",
      "INFO: [SYSTEM_LINK 82-38] [20:06:36] build_xd_ip_db started: /opt/xilinx/2019.2/bin/build_xd_ip_db -ip_search 0  -sds-pf /home/xilinx/notebook/_x/link/sys_link/emu/xilinx_u200_xdma_201830_2_emu.hpfm -clkid 0 -ip /home/xilinx/notebook/_x/link/sys_link/iprepo/xilinx_com_hls_vadd_1_0,vadd -o /home/xilinx/notebook/_x/link/sys_link/_sysl/.cdb/xd_ip_db.xml\n",
      "INFO: [SYSTEM_LINK 82-37] [20:06:40] build_xd_ip_db finished successfully\n",
      "Time (s): cpu = 00:00:03 ; elapsed = 00:00:04 . Memory (MB): peak = 278.898 ; gain = 0.000 ; free physical = 19888 ; free virtual = 92918\n",
      "INFO: [SYSTEM_LINK 82-51] Create system connectivity graph\n",
      "INFO: [SYSTEM_LINK 82-102] Applying explicit connections to the system connectivity graph: /home/xilinx/notebook/_x/link/sys_link/cfgraph/cfgen_cfgraph.xml\n",
      "INFO: [SYSTEM_LINK 82-38] [20:06:40] cfgen started: /opt/xilinx/2019.2/bin/cfgen -dmclkid 0 -r /home/xilinx/notebook/_x/link/sys_link/_sysl/.cdb/xd_ip_db.xml -o /home/xilinx/notebook/_x/link/sys_link/cfgraph/cfgen_cfgraph.xml\n",
      "INFO: [CFGEN 83-0] Kernel Specs: \n",
      "INFO: [CFGEN 83-0]   kernel: vadd, num: 1  {vadd_1}\n",
      "INFO: [CFGEN 83-2226] Inferring mapping for argument vadd_1.in_a to DDR[1]\n",
      "INFO: [CFGEN 83-2226] Inferring mapping for argument vadd_1.in_b to DDR[1]\n",
      "INFO: [CFGEN 83-2226] Inferring mapping for argument vadd_1.out_c to DDR[1]\n",
      "INFO: [SYSTEM_LINK 82-37] [20:06:44] cfgen finished successfully\n",
      "Time (s): cpu = 00:00:04 ; elapsed = 00:00:04 . Memory (MB): peak = 287.590 ; gain = 0.000 ; free physical = 19887 ; free virtual = 92917\n",
      "INFO: [SYSTEM_LINK 82-52] Create top-level block diagram\n",
      "INFO: [SYSTEM_LINK 82-38] [20:06:44] cf2bd started: /opt/xilinx/2019.2/bin/cf2bd  --linux --trace_buffer 1024 --input_file /home/xilinx/notebook/_x/link/sys_link/cfgraph/cfgen_cfgraph.xml --ip_db /home/xilinx/notebook/_x/link/sys_link/_sysl/.cdb/xd_ip_db.xml --cf_name dr --working_dir /home/xilinx/notebook/_x/link/sys_link/_sysl/.xsd --temp_dir /home/xilinx/notebook/_x/link/sys_link --output_dir /home/xilinx/notebook/_x/link/int --target_bd emu/emu.bd\n",
      "INFO: [CF2BD 82-31] Launching cf2xd: cf2xd -linux -trace-buffer 1024 -i /home/xilinx/notebook/_x/link/sys_link/cfgraph/cfgen_cfgraph.xml -r /home/xilinx/notebook/_x/link/sys_link/_sysl/.cdb/xd_ip_db.xml -o dr.xml\n",
      "INFO: [CF2BD 82-28] cf2xd finished successfully\n",
      "INFO: [CF2BD 82-31] Launching cf_xsd: cf_xsd -disable-address-gen -bd emu/emu.bd -dn dr -dp /home/xilinx/notebook/_x/link/sys_link/_sysl/.xsd\n",
      "INFO: [CF2BD 82-28] cf_xsd finished successfully\n",
      "INFO: [SYSTEM_LINK 82-37] [20:06:46] cf2bd finished successfully\n",
      "Time (s): cpu = 00:00:02 ; elapsed = 00:00:02 . Memory (MB): peak = 287.590 ; gain = 0.000 ; free physical = 19882 ; free virtual = 92916\n",
      "INFO: [v++ 60-1441] [20:06:46] Run run_link: Step system_link: Completed\n",
      "Time (s): cpu = 00:00:10 ; elapsed = 00:00:17 . Memory (MB): peak = 687.004 ; gain = 0.000 ; free physical = 19970 ; free virtual = 92935\n",
      "INFO: [v++ 60-1443] [20:06:46] Run run_link: Step cf2sw: Started\n",
      "INFO: [v++ 60-1453] Command Line: cf2sw -sdsl /home/xilinx/notebook/_x/link/int/sdsl.dat -rtd /home/xilinx/notebook/_x/link/int/cf2sw.rtd -xclbin /home/xilinx/notebook/_x/link/int/xclbin_orig.xml -o /home/xilinx/notebook/_x/link/int/xclbin_orig.1.xml\n",
      "INFO: [v++ 60-1454] Run Directory: /home/xilinx/notebook/_x/link/run_link\n",
      "INFO: [v++ 60-1441] [20:06:47] Run run_link: Step cf2sw: Completed\n",
      "Time (s): cpu = 00:00:01 ; elapsed = 00:00:01 . Memory (MB): peak = 687.004 ; gain = 0.000 ; free physical = 19971 ; free virtual = 92936\n",
      "INFO: [v++ 60-1443] [20:06:47] Run run_link: Step rtd2_system_diagram: Started\n",
      "INFO: [v++ 60-1453] Command Line: rtd2SystemDiagram --rtdJsonFileName /home/xilinx/notebook/_x/link/int/cf2sw.rtd --diagramJsonFileName /home/xilinx/notebook/_x/link/int/systemDiagramModel.json --platformFilePath /opt/xilinx/platforms/xilinx_u200_xdma_201830_2/xilinx_u200_xdma_201830_2.xpfm --generatedByName v++ --generatedByVersion 2019.2 --generatedByChangeList 2708876 --generatedByTimeStamp Wed Nov  6 21:39:14 MST 2019 --generatedByOptions /opt/xilinx/2019.2/bin/unwrapped/lnx64.o/v++ -l -t hw_emu -o vadd_emu.xclbin -f /opt/xilinx/platforms/xilinx_u200_xdma_201830_2/xilinx_u200_xdma_201830_2.xpfm vadd.xo  --generatedByXclbinName vadd_emu --kernelInfoDataFileName /home/xilinx/notebook/_x/link/int/kernel_info.dat\n",
      "INFO: [v++ 60-1454] Run Directory: /home/xilinx/notebook/_x/link/run_link\n",
      "INFO: [v++ 60-839] Read in kernel information from file '/home/xilinx/notebook/_x/link/int/kernel_info.dat'.\n",
      "WARNING: [v++ 82-158] Unable to populate kernel available resources DSP entry.\n",
      "INFO: [v++ 60-1441] [20:06:49] Run run_link: Step rtd2_system_diagram: Completed\n",
      "Time (s): cpu = 00:00:02 ; elapsed = 00:00:02 . Memory (MB): peak = 687.004 ; gain = 0.000 ; free physical = 19972 ; free virtual = 92937\n",
      "INFO: [v++ 60-1443] [20:06:49] Run run_link: Step vpl: Started\n",
      "INFO: [v++ 60-1453] Command Line: vpl -t hw_emu -f /opt/xilinx/platforms/xilinx_u200_xdma_201830_2/xilinx_u200_xdma_201830_2.xpfm --output_dir /home/xilinx/notebook/_x/link/int --log_dir /home/xilinx/notebook/_x/logs/link --report_dir /home/xilinx/notebook/_x/reports/link --config /home/xilinx/notebook/_x/link/int/vplConfig.ini -k /home/xilinx/notebook/_x/link/int/kernel_info.dat --webtalk_flag Vitis --temp_dir /home/xilinx/notebook/_x/link --emulation_mode debug_waveform --no-info --tlog_dir /home/xilinx/notebook/_x/.tlog/v++_link_vadd_emu --iprepo /home/xilinx/notebook/_x/link/int/xo/ip_repo/xilinx_com_hls_vadd_1_0 --messageDb /home/xilinx/notebook/_x/link/run_link/vpl.pb /home/xilinx/notebook/_x/link/int/dr.bd.tcl\n",
      "INFO: [v++ 60-1454] Run Directory: /home/xilinx/notebook/_x/link/run_link\n",
      "\n",
      "****** vpl v2019.2 (64-bit)\n",
      "  **** SW Build 2708876 on Wed Nov  6 21:39:14 MST 2019\n",
      "    ** Copyright 1986-2019 Xilinx, Inc. All Rights Reserved.\n",
      "\n",
      "INFO: [VPL 60-839] Read in kernel information from file '/home/xilinx/notebook/_x/link/int/kernel_info.dat'.\n",
      "INFO: [VPL 60-423]   Target device: xilinx_u200_xdma_201830_2\n",
      "INFO: [VPL 60-1032] Extracting hardware platform to /home/xilinx/notebook/_x/link/vivado/vpl/.local/hw_platform\n",
      "[20:07:25] Run vpl: Step create_project: Started\n",
      "Creating Vivado project.\n",
      "[20:07:43] Run vpl: Step create_project: Completed\n",
      "[20:07:43] Run vpl: Step create_bd: Started\n",
      "[20:08:59] Run vpl: Step create_bd: RUNNING...\n",
      "[20:09:11] Run vpl: Step create_bd: Completed\n",
      "[20:09:11] Run vpl: Step update_bd: Started\n",
      "[20:09:19] Run vpl: Step update_bd: Completed\n",
      "[20:09:19] Run vpl: Step generate_target: Started\n",
      "[20:10:06] Run vpl: Step generate_target: Completed\n",
      "[20:10:06] Run vpl: Step config_hw_emulation: Started\n",
      "[20:11:22] Run vpl: Step config_hw_emulation: RUNNING...\n",
      "[20:12:17] Run vpl: Step config_hw_emulation: Completed\n",
      "[20:12:17] Run vpl: FINISHED. Run Status: config_hw_emulation Complete!\n",
      "INFO: [v++ 60-1441] [20:12:18] Run run_link: Step vpl: Completed\n",
      "Time (s): cpu = 00:00:14 ; elapsed = 00:05:28 . Memory (MB): peak = 687.004 ; gain = 0.000 ; free physical = 18834 ; free virtual = 92207\n",
      "INFO: [v++ 60-1443] [20:12:18] Run run_link: Step rtdgen: Started\n",
      "INFO: [v++ 60-1453] Command Line: rtdgen\n",
      "INFO: [v++ 60-1454] Run Directory: /home/xilinx/notebook/_x/link/run_link\n",
      "INFO: [v++ 60-991] clock name 'kernel2_clk_clk' (clock ID '1') is being mapped to clock name 'KERNEL_CLK' in the xclbin\n",
      "INFO: [v++ 60-991] clock name 'kernel_clk_clk' (clock ID '0') is being mapped to clock name 'DATA_CLK' in the xclbin\n",
      "INFO: [v++ 60-1230] The compiler selected the following frequencies for the runtime controllable kernel clock(s) and scalable system clock(s): Kernel (KERNEL) clock: kernel2_clk_clk = 500, Kernel (DATA) clock: kernel_clk_clk = 300\n",
      "INFO: [v++ 60-1453] Command Line: cf2sw -a /home/xilinx/notebook/_x/link/int/address_map.xml -sdsl /home/xilinx/notebook/_x/link/int/sdsl.dat -xclbin /home/xilinx/notebook/_x/link/int/xclbin_orig.xml -rtd /home/xilinx/notebook/_x/link/int/vadd_emu.rtd -o /home/xilinx/notebook/_x/link/int/vadd_emu.xml\n",
      "WARNING: [v++ 60-1455] Debuggable symbols are not generated successfully, clean up /home/xilinx/notebook/_x/link/int/consolidated.cf\n",
      "INFO: [v++ 60-1618] Launching \n",
      "INFO: [v++ 60-1441] [20:12:23] Run run_link: Step rtdgen: Completed\n",
      "Time (s): cpu = 00:00:05 ; elapsed = 00:00:06 . Memory (MB): peak = 687.004 ; gain = 0.000 ; free physical = 19547 ; free virtual = 92942\n",
      "INFO: [v++ 60-1443] [20:12:23] Run run_link: Step xclbinutil: Started\n",
      "INFO: [v++ 60-1453] Command Line: xclbinutil --key-value SYS:mode:hw_pr --add-section DEBUG_IP_LAYOUT:JSON:/home/xilinx/notebook/_x/link/int/debug_ip_layout.rtd --add-section BITSTREAM:RAW:/home/xilinx/notebook/_x/link/int/behav.xse --force --add-section :JSON:/home/xilinx/notebook/_x/link/int/vadd_emu.rtd --append-section :JSON:/home/xilinx/notebook/_x/link/int/appendSection.rtd --add-section CLOCK_FREQ_TOPOLOGY:JSON:/home/xilinx/notebook/_x/link/int/vadd_emu_xml.rtd --add-section BUILD_METADATA:JSON:/home/xilinx/notebook/_x/link/int/vadd_emu_build.rtd --add-section EMBEDDED_METADATA:RAW:/home/xilinx/notebook/_x/link/int/vadd_emu.xml --add-section SYSTEM_METADATA:RAW:/home/xilinx/notebook/_x/link/int/systemDiagramModelSlrBaseAddress.json --output /home/xilinx/notebook/_x/link/int/vadd_emu.xclbin\n",
      "INFO: [v++ 60-1454] Run Directory: /home/xilinx/notebook/_x/link/run_link\n",
      "XRT Build Version: 2.3.1301\n",
      "       Build Date: 2019-10-25 03:04:42\n",
      "          Hash ID: 192e706aea53163a04c574f9b3fe9ed76b6ca471\n",
      "Creating a default 'in-memory' xclbin image.\n",
      "\n",
      "Section: 'DEBUG_IP_LAYOUT'(9) was successfully added.\n",
      "Size   : 728 bytes\n",
      "Format : JSON\n",
      "File   : '/home/xilinx/notebook/_x/link/int/debug_ip_layout.rtd'\n",
      "\n",
      "Section: 'BITSTREAM'(0) was successfully added.\n",
      "Size   : 23354569 bytes\n",
      "Format : RAW\n",
      "File   : '/home/xilinx/notebook/_x/link/int/behav.xse'\n",
      "\n",
      "Section: 'MEM_TOPOLOGY'(6) was successfully added.\n",
      "Format : JSON\n",
      "File   : 'mem_topology'\n",
      "\n",
      "Section: 'IP_LAYOUT'(8) was successfully added.\n",
      "Format : JSON\n",
      "File   : 'ip_layout'\n",
      "\n",
      "Section: 'CONNECTIVITY'(7) was successfully added.\n",
      "Format : JSON\n",
      "File   : 'connectivity'\n",
      "\n",
      "Section: 'CLOCK_FREQ_TOPOLOGY'(11) was successfully added.\n",
      "Size   : 274 bytes\n",
      "Format : JSON\n",
      "File   : '/home/xilinx/notebook/_x/link/int/vadd_emu_xml.rtd'\n",
      "\n",
      "Section: 'BUILD_METADATA'(14) was successfully added.\n",
      "Size   : 2856 bytes\n",
      "Format : JSON\n",
      "File   : '/home/xilinx/notebook/_x/link/int/vadd_emu_build.rtd'\n",
      "\n",
      "Section: 'EMBEDDED_METADATA'(2) was successfully added.\n",
      "Size   : 3036 bytes\n",
      "Format : RAW\n",
      "File   : '/home/xilinx/notebook/_x/link/int/vadd_emu.xml'\n",
      "\n",
      "Section: 'SYSTEM_METADATA'(22) was successfully added.\n",
      "Size   : 6058 bytes\n",
      "Format : RAW\n",
      "File   : '/home/xilinx/notebook/_x/link/int/systemDiagramModelSlrBaseAddress.json'\n",
      "\n",
      "Section: 'IP_LAYOUT'(8) was successfully appended to.\n",
      "Format : JSON\n",
      "File   : 'ip_layout'\n",
      "Successfully wrote (23376369 bytes) to the output file: /home/xilinx/notebook/_x/link/int/vadd_emu.xclbin\n",
      "Leaving xclbinutil.\n",
      "INFO: [v++ 60-1441] [20:12:23] Run run_link: Step xclbinutil: Completed\n",
      "Time (s): cpu = 00:00:00.01 ; elapsed = 00:00:00.05 . Memory (MB): peak = 687.004 ; gain = 0.000 ; free physical = 19525 ; free virtual = 92942\n",
      "INFO: [v++ 60-1443] [20:12:23] Run run_link: Step xclbinutilinfo: Started\n",
      "INFO: [v++ 60-1453] Command Line: xclbinutil --quiet --info /home/xilinx/notebook/_x/link/int/vadd_emu.xclbin.info --input /home/xilinx/notebook/_x/link/int/vadd_emu.xclbin\n",
      "INFO: [v++ 60-1454] Run Directory: /home/xilinx/notebook/_x/link/run_link\n",
      "INFO: [v++ 60-1441] [20:12:24] Run run_link: Step xclbinutilinfo: Completed\n",
      "Time (s): cpu = 00:00:00.21 ; elapsed = 00:00:00.23 . Memory (MB): peak = 687.004 ; gain = 0.000 ; free physical = 19525 ; free virtual = 92942\n",
      "INFO: [v++ 60-244] Generating system estimate report...\n",
      "INFO: [v++ 60-1092] Generated system estimate report: /home/xilinx/notebook/_x/reports/link/system_estimate_vadd_emu.xtxt\n",
      "INFO: [v++ 60-586] Created vadd_emu.xclbin\n",
      "INFO: [v++ 60-1307] Run completed. Additional information can be found in:\n",
      "\tGuidance: /home/xilinx/notebook/_x/reports/link/v++_link_vadd_emu_guidance.html\n",
      "\tSteps Log File: /home/xilinx/notebook/_x/logs/link/link.steps.log\n",
      "\n",
      "INFO: [v++ 60-791] Total elapsed time: 0h 6m 6s\n"
     ]
    }
   ],
   "source": [
    "!v++ -l -t hw_emu -o vadd_emu.xclbin -f $platform vadd.xo"
   ]
  },
  {
   "cell_type": "markdown",
   "metadata": {},
   "source": [
    "## Setting up the emulator\n",
    "\n",
    "Now we have a bitstream we can start setting up the emulator. First we use the `emconfigutil` utility to define the system we want to emulate. In this case we want a single instance containing the platform we used."
   ]
  },
  {
   "cell_type": "code",
   "execution_count": 11,
   "metadata": {
    "scrolled": true
   },
   "outputs": [
    {
     "name": "stdout",
     "output_type": "stream",
     "text": [
      "\n",
      "****** configutil v2019.2 (64-bit)\n",
      "  **** SW Build 2708876 on Wed Nov  6 21:39:14 MST 2019\n",
      "    ** Copyright 1986-2019 Xilinx, Inc. All Rights Reserved.\n",
      "\n",
      "INFO: [ConfigUtil 60-895]   Target platform: /opt/xilinx/platforms/xilinx_u200_xdma_201830_2/xilinx_u200_xdma_201830_2.xpfm\n",
      "INFO: [ConfigUtil 60-1578]   This platform contains Device Support Archive '/opt/xilinx/platforms/xilinx_u200_xdma_201830_2/hw/xilinx_u200_xdma_201830_2.dsa'\n",
      "emulation configuration file `emconfig.json` is created in current working directory \n"
     ]
    }
   ],
   "source": [
    "!emconfigutil -f $platform --nd 1"
   ]
  },
  {
   "cell_type": "markdown",
   "metadata": {},
   "source": [
    "The `emconfig.json` file describes the platform and is used by the emulator runtime. default search path for this file is alongside the executable which would be `/usr/bin/python3` for a Python script. We can override this location by setting the `EMCONFIG_PATH` environment variable."
   ]
  },
  {
   "cell_type": "code",
   "execution_count": 12,
   "metadata": {},
   "outputs": [],
   "source": [
    "import os\n",
    "os.environ['EMCONFIG_PATH'] = os.environ['PWD']"
   ]
  },
  {
   "cell_type": "markdown",
   "metadata": {},
   "source": [
    "We also need to set the `XCL_EMULATION_MODE` environment variable to tell PYNQ and the underlying runtime to run against the emulator rather than real hardware. Note that this must be done before importing PYNQ."
   ]
  },
  {
   "cell_type": "code",
   "execution_count": 13,
   "metadata": {},
   "outputs": [],
   "source": [
    "os.environ['XCL_EMULATION_MODE'] = 'hw_emu'"
   ]
  },
  {
   "cell_type": "markdown",
   "metadata": {},
   "source": [
    "## Running PYNQ on the Emulator"
   ]
  },
  {
   "cell_type": "code",
   "execution_count": 14,
   "metadata": {},
   "outputs": [],
   "source": [
    "import pynq"
   ]
  },
  {
   "cell_type": "markdown",
   "metadata": {},
   "source": [
    "Now we can instantiate our overlay - this will start the emulator in the background"
   ]
  },
  {
   "cell_type": "code",
   "execution_count": 15,
   "metadata": {},
   "outputs": [],
   "source": [
    "ol = pynq.Overlay('vadd_emu.xclbin')"
   ]
  },
  {
   "cell_type": "markdown",
   "metadata": {},
   "source": [
    "We can now use PYNQ in exactly the same way as if we were running against real hardware. For more details on the commands used refer to the _introduction_ notebook. The only change made here is to reduce the number of elements in the array to reduce the time it takes for the emulation to run."
   ]
  },
  {
   "cell_type": "code",
   "execution_count": 19,
   "metadata": {},
   "outputs": [
    {
     "data": {
      "text/plain": [
       "PynqBuffer([214, 277, 241, ..., 213, 208, 237], dtype=uint32)"
      ]
     },
     "execution_count": 19,
     "metadata": {},
     "output_type": "execute_result"
    }
   ],
   "source": [
    "import numpy as np\n",
    "\n",
    "vadd = ol.vadd_1\n",
    "\n",
    "in1 = pynq.allocate((1024,), 'u4')\n",
    "in2 = pynq.allocate((1024,), 'u4')\n",
    "out = pynq.allocate((1024,), 'u4')\n",
    "\n",
    "in1[:] = np.random.randint(low=0, high=100, size=(1024,), dtype='u4')\n",
    "in2[:] = 200\n",
    "\n",
    "in1.sync_to_device()\n",
    "in2.sync_to_device()\n",
    "\n",
    "vadd.call(in1, in2, out, 1024)\n",
    "\n",
    "out.sync_from_device()\n",
    "\n",
    "out"
   ]
  },
  {
   "cell_type": "markdown",
   "metadata": {},
   "source": [
    "The result looks promising but we can double check with numpy"
   ]
  },
  {
   "cell_type": "code",
   "execution_count": 20,
   "metadata": {},
   "outputs": [
    {
     "data": {
      "text/plain": [
       "True"
      ]
     },
     "execution_count": 20,
     "metadata": {},
     "output_type": "execute_result"
    }
   ],
   "source": [
    "np.array_equal(out, in1 + in2)"
   ]
  },
  {
   "cell_type": "markdown",
   "metadata": {},
   "source": [
    "Using timeit we can see just how much slower the hardware emulation is compared to the software implementation."
   ]
  },
  {
   "cell_type": "code",
   "execution_count": 23,
   "metadata": {},
   "outputs": [
    {
     "name": "stdout",
     "output_type": "stream",
     "text": [
      "5.56 s ± 11.6 ms per loop (mean ± std. dev. of 7 runs, 1 loop each)\n"
     ]
    }
   ],
   "source": [
    "%%timeit\n",
    "in1.sync_to_device()\n",
    "in2.sync_to_device()\n",
    "\n",
    "vadd.call(in1, in2, out, 1024)\n",
    "\n",
    "out.sync_from_device()"
   ]
  },
  {
   "cell_type": "markdown",
   "metadata": {},
   "source": [
    "When using emulation it's important to close the device as well as free the bitstream to make the sure the simulator running the background is correctly shut down"
   ]
  },
  {
   "cell_type": "code",
   "execution_count": 24,
   "metadata": {},
   "outputs": [],
   "source": [
    "ol.free()\n",
    "pynq.Device.active_device.close()"
   ]
  },
  {
   "cell_type": "markdown",
   "metadata": {},
   "source": [
    "For more information on using the simulator refer the [Vitis debugging documentation](https://www.xilinx.com/html_docs/xilinx2019_2/vitis_doc/Chunk1273465831.html#pht1538574247013). In particular this will show how to\n",
    "\n",
    " * View waveforms of the accelerator execution\n",
    " * Debug the underlying hardware code interactively\n",
    " \n",
    "Copyright (C) 2020 Xilinx, Inc"
   ]
  }
 ],
 "metadata": {
  "kernelspec": {
   "display_name": "Python 3",
   "language": "python",
   "name": "python3"
  },
  "language_info": {
   "codemirror_mode": {
    "name": "ipython",
    "version": 3
   },
   "file_extension": ".py",
   "mimetype": "text/x-python",
   "name": "python",
   "nbconvert_exporter": "python",
   "pygments_lexer": "ipython3",
   "version": "3.7.4"
  }
 },
 "nbformat": 4,
 "nbformat_minor": 4
}
