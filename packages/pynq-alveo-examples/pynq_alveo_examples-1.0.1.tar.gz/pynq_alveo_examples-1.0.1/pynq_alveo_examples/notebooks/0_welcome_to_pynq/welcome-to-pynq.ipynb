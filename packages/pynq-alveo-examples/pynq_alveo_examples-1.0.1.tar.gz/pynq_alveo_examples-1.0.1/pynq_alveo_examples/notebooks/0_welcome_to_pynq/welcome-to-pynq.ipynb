{
 "cells": [
  {
   "cell_type": "markdown",
   "metadata": {},
   "source": [
    "# Welcome to PYNQ for Alveo\n",
    "\n",
    "*Alveo* is the family of *adaptable accelerator cards for data center workloads* made by [Xilinx](https://www.xilinx.com/). \n",
    "You can learn more about Alveo on the [official webpage](https://www.xilinx.com/products/boards-and-kits/alveo.html).\n",
    "\n",
    "![alveo](alveo.png \"Alveo Card\")\n",
    "\n",
    "To begin, let's print out the detected devices in your system. To do so we use the `devices` property of `pynq.Device`"
   ]
  },
  {
   "cell_type": "code",
   "execution_count": null,
   "metadata": {},
   "outputs": [],
   "source": [
    "from pynq import Device\n",
    "devices = Device.devices\n",
    "for i in range(len(devices)):\n",
    "    print(\"{}) {}\".format(i, devices[i].name))"
   ]
  },
  {
   "cell_type": "markdown",
   "metadata": {},
   "source": [
    "In this folder you will find notebooks with examples and demos.\n",
    "Please check them out to learn more about PYNQ and how to use it for your applications.\n",
    "\n",
    "## Alveo-PYNQ examples repository\n",
    "For more info on the Alveo-PYNQ examples, please take a look at the [GitHub Repository](https://github.com/Xilinx/Alveo-PYNQ). You should also take a look at the [instructions](https://github.com/Xilinx/Alveo-PYNQ/tree/master/overlays) to re-build the included overlays in case you need it.\n",
    "\n",
    "You should also check out the following useful PYNQ resources:\n",
    "\n",
    "## Community\n",
    "Please take a look at the [PYNQ community page](http://www.pynq.io/community.html) for more projects to check out.\n",
    "\n",
    "## Documentation\n",
    "Please see the latest [PYNQ Documentation on readthedocs](http://pynq.readthedocs.io/).\n",
    "\n",
    "## Support\n",
    "For questions or support, go to the [PYNQ forum](http://discuss.pynq.io/).\n",
    "\n",
    "## Project webpage\n",
    "You can find details on the [PYNQ project webpage](http://www.pynq.io/).\n",
    "\n",
    "## GitHub\n",
    "The PYNQ Repository is hosted on github: [PYNQ GitHub Repository](https://github.com/xilinx/pynq)."
   ]
  },
  {
   "cell_type": "markdown",
   "metadata": {},
   "source": [
    "Copyright (C) 2020 Xilinx, Inc"
   ]
  }
 ],
 "metadata": {
  "kernelspec": {
   "display_name": "Python 3",
   "language": "python",
   "name": "python3"
  },
  "language_info": {
   "codemirror_mode": {
    "name": "ipython",
    "version": 3
   },
   "file_extension": ".py",
   "mimetype": "text/x-python",
   "name": "python",
   "nbconvert_exporter": "python",
   "pygments_lexer": "ipython3",
   "version": "3.7.1"
  }
 },
 "nbformat": 4,
 "nbformat_minor": 2
}
