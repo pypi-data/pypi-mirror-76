{
 "cells": [
  {
   "cell_type": "markdown",
   "metadata": {},
   "source": [
    "# Memory and Stream Objects\n",
    "\n",
    "This notebook is a companion to the _Exploring a Design_ notebook in the getting started guide. Whereas that notebook looked at the dictionaries that are available before a bitstream is downloaded, here we look in greater detail at how memories and streams can be interacted with once the overlay is loaded.\n",
    "\n",
    "Again we are going to use the `kernel_opt.xclbin` file as it provides a wide range of features that can be inspected."
   ]
  },
  {
   "cell_type": "code",
   "execution_count": 1,
   "metadata": {},
   "outputs": [
    {
     "data": {
      "application/javascript": [
       "\n",
       "try {\n",
       "require(['notebook/js/codecell'], function(codecell) {\n",
       "  codecell.CodeCell.options_default.highlight_modes[\n",
       "      'magic_text/x-csrc'] = {'reg':[/^%%microblaze/]};\n",
       "  Jupyter.notebook.events.one('kernel_ready.Kernel', function(){\n",
       "      Jupyter.notebook.get_cells().map(function(cell){\n",
       "          if (cell.cell_type == 'code'){ cell.auto_highlight(); } }) ;\n",
       "  });\n",
       "});\n",
       "} catch (e) {};\n"
      ]
     },
     "metadata": {},
     "output_type": "display_data"
    }
   ],
   "source": [
    "import pynq\n",
    "\n",
    "ol = pynq.Overlay('kernel_opt.xclbin')"
   ]
  },
  {
   "cell_type": "markdown",
   "metadata": {},
   "source": [
    "## Memory Status\n",
    "\n",
    "As well as being used as a target for memory allocation, the memory attributes can also get some basic statistics of memory usage in the system as a whole."
   ]
  },
  {
   "cell_type": "code",
   "execution_count": 2,
   "metadata": {},
   "outputs": [
    {
     "data": {
      "text/plain": [
       "0"
      ]
     },
     "execution_count": 2,
     "metadata": {},
     "output_type": "execute_result"
    }
   ],
   "source": [
    "bank = ol.bank1\n",
    "\n",
    "bank.mem_used"
   ]
  },
  {
   "cell_type": "markdown",
   "metadata": {},
   "source": [
    "Allocating a 4 MB array shows a corresponding jump in the used memory"
   ]
  },
  {
   "cell_type": "code",
   "execution_count": 3,
   "metadata": {},
   "outputs": [
    {
     "data": {
      "text/plain": [
       "4194304"
      ]
     },
     "execution_count": 3,
     "metadata": {},
     "output_type": "execute_result"
    }
   ],
   "source": [
    "buf = pynq.allocate((1024,1024), 'u4', target=bank)\n",
    "\n",
    "bank.mem_used"
   ]
  },
  {
   "cell_type": "markdown",
   "metadata": {},
   "source": [
    "And deleting the array frees the underlying hardware resources"
   ]
  },
  {
   "cell_type": "code",
   "execution_count": 4,
   "metadata": {},
   "outputs": [
    {
     "data": {
      "text/plain": [
       "0"
      ]
     },
     "execution_count": 4,
     "metadata": {},
     "output_type": "execute_result"
    }
   ],
   "source": [
    "%xdel buf\n",
    "\n",
    "bank.mem_used"
   ]
  },
  {
   "cell_type": "markdown",
   "metadata": {},
   "source": [
    "The reason for using `%xdel` rather than the regular Python `del` is that Jupyter can keep references to variables around even after they've been deleted which prevents the object from being freed. If we repeat the experiment but using `del` and printing the contents of the buffer we can see that memory is not freed."
   ]
  },
  {
   "cell_type": "code",
   "execution_count": 5,
   "metadata": {},
   "outputs": [
    {
     "data": {
      "text/plain": [
       "PynqBuffer([[0, 0, 0, ..., 0, 0, 0],\n",
       "            [0, 0, 0, ..., 0, 0, 0],\n",
       "            [0, 0, 0, ..., 0, 0, 0],\n",
       "            ...,\n",
       "            [0, 0, 0, ..., 0, 0, 0],\n",
       "            [0, 0, 0, ..., 0, 0, 0],\n",
       "            [0, 0, 0, ..., 0, 0, 0]], dtype=uint32)"
      ]
     },
     "execution_count": 5,
     "metadata": {},
     "output_type": "execute_result"
    }
   ],
   "source": [
    "buf = pynq.allocate((1024,1024), 'u4', target=bank)\n",
    "buf"
   ]
  },
  {
   "cell_type": "code",
   "execution_count": 6,
   "metadata": {},
   "outputs": [
    {
     "data": {
      "text/plain": [
       "4194304"
      ]
     },
     "execution_count": 6,
     "metadata": {},
     "output_type": "execute_result"
    }
   ],
   "source": [
    "del buf\n",
    "bank.mem_used"
   ]
  },
  {
   "cell_type": "markdown",
   "metadata": {},
   "source": [
    "We can reference this instance using `_*` notataion that Jupyter provides to access old cell results. If you've rerun cells in this notebook you will need to change the code below to refer to the cell printing the buffer."
   ]
  },
  {
   "cell_type": "code",
   "execution_count": 7,
   "metadata": {},
   "outputs": [],
   "source": [
    "buf = _5"
   ]
  },
  {
   "cell_type": "markdown",
   "metadata": {},
   "source": [
    "Running `%xdel` on our reclaimed reference will strip all references out of IPython. This is important to note as we cannot reprogram the bitstream if there are buffers still allocated."
   ]
  },
  {
   "cell_type": "code",
   "execution_count": 8,
   "metadata": {},
   "outputs": [
    {
     "data": {
      "text/plain": [
       "0"
      ]
     },
     "execution_count": 8,
     "metadata": {},
     "output_type": "execute_result"
    }
   ],
   "source": [
    "%xdel buf\n",
    "bank.mem_used"
   ]
  },
  {
   "cell_type": "markdown",
   "metadata": {},
   "source": [
    "## Stream Information\n",
    "\n",
    "The attributes representing stream objects provide a straightforward way to get information about the stream. The `source` and `sink` attributes of the stream object provide a textual representation in `'{ip}.{port}'` format"
   ]
  },
  {
   "cell_type": "code",
   "execution_count": 9,
   "metadata": {},
   "outputs": [
    {
     "data": {
      "text/plain": [
       "'krnl_stream_vadd_1.out_r'"
      ]
     },
     "execution_count": 9,
     "metadata": {},
     "output_type": "execute_result"
    }
   ],
   "source": [
    "stream = ol.dc_0\n",
    "\n",
    "stream.source"
   ]
  },
  {
   "cell_type": "markdown",
   "metadata": {},
   "source": [
    "The the IP driver has been instantiated then the `source_ip` or `sink_ip` attributes will provide direct access to the driver for the IP the endpoint is attached to."
   ]
  },
  {
   "cell_type": "code",
   "execution_count": 10,
   "metadata": {},
   "outputs": [
    {
     "data": {
      "text/plain": [
       "<pynq.overlay.DefaultIP at 0x7f9422ca7990>"
      ]
     },
     "execution_count": 10,
     "metadata": {},
     "output_type": "execute_result"
    }
   ],
   "source": [
    "vadd = ol.krnl_stream_vadd_1\n",
    "stream.source_ip"
   ]
  },
  {
   "cell_type": "markdown",
   "metadata": {},
   "source": [
    "## Cleaning Up\n",
    "\n",
    "To release the card for others we should `free` the overlay when we are finished with it"
   ]
  },
  {
   "cell_type": "code",
   "execution_count": 11,
   "metadata": {},
   "outputs": [],
   "source": [
    "ol.free()"
   ]
  },
  {
   "cell_type": "markdown",
   "metadata": {},
   "source": [
    "Copyright (C) 2020 Xilix, Inc"
   ]
  }
 ],
 "metadata": {
  "kernelspec": {
   "display_name": "Python 3",
   "language": "python",
   "name": "python3"
  },
  "language_info": {
   "codemirror_mode": {
    "name": "ipython",
    "version": 3
   },
   "file_extension": ".py",
   "mimetype": "text/x-python",
   "name": "python",
   "nbconvert_exporter": "python",
   "pygments_lexer": "ipython3",
   "version": "3.7.4"
  }
 },
 "nbformat": 4,
 "nbformat_minor": 4
}
