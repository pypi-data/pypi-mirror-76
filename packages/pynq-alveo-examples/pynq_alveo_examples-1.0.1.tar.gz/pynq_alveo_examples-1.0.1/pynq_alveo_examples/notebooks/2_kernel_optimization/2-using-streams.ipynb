{
 "cells": [
  {
   "cell_type": "markdown",
   "metadata": {},
   "source": [
    "# Using Streams\n",
    "\n",
    "This notebook will show how to deal with streams with PYNQ. To do so, we will use the vector addition and multiplication kernels provided by the [stream kernel to kernel memory mapped](https://github.com/Xilinx/Vitis_Accel_Examples/tree/63bae10d581df40cf9402ed71ea825476751305d/host/streaming_k2k_mm) application from the [Vitis Accel Examples](https://github.com/Xilinx/Vitis_Accel_Examples/tree/63bae10d581df40cf9402ed71ea825476751305d).\n",
    "This design has a stream that connects the output of the vector addition with one of the inputs of the vector multiplication.\n",
    "\n",
    "![vadd-vmult-streams](img/vadd-vmult-streams.png \"Design Overview\")\n",
    "\n",
    "## Overlay download and kernels inspection\n",
    "\n",
    "Let's program the device with the required overlay and assign the two kernels we are going to use to the variables `vadd` and `vmult`."
   ]
  },
  {
   "cell_type": "code",
   "execution_count": 1,
   "metadata": {},
   "outputs": [
    {
     "data": {
      "application/javascript": [
       "\n",
       "try {\n",
       "require(['notebook/js/codecell'], function(codecell) {\n",
       "  codecell.CodeCell.options_default.highlight_modes[\n",
       "      'magic_text/x-csrc'] = {'reg':[/^%%microblaze/]};\n",
       "  Jupyter.notebook.events.one('kernel_ready.Kernel', function(){\n",
       "      Jupyter.notebook.get_cells().map(function(cell){\n",
       "          if (cell.cell_type == 'code'){ cell.auto_highlight(); } }) ;\n",
       "  });\n",
       "});\n",
       "} catch (e) {};\n"
      ]
     },
     "metadata": {},
     "output_type": "display_data"
    }
   ],
   "source": [
    "import pynq\n",
    "ol = pynq.Overlay(\"kernel_opt.xclbin\")\n",
    "\n",
    "vadd = ol.krnl_stream_vadd_1\n",
    "vmult = ol.krnl_stream_vmult_1"
   ]
  },
  {
   "cell_type": "markdown",
   "metadata": {},
   "source": [
    "We can check the signature of the two kernels to see what arguments are expected to be passed when invoking `.call()`."
   ]
  },
  {
   "cell_type": "code",
   "execution_count": 2,
   "metadata": {},
   "outputs": [
    {
     "data": {
      "text/plain": [
       "<Signature (in1:'int*', in2:'int*', size:'int')>"
      ]
     },
     "execution_count": 2,
     "metadata": {},
     "output_type": "execute_result"
    }
   ],
   "source": [
    "vadd.signature"
   ]
  },
  {
   "cell_type": "code",
   "execution_count": 3,
   "metadata": {},
   "outputs": [
    {
     "data": {
      "text/plain": [
       "<Signature (in1:'int*', out_r:'int*', size:'int')>"
      ]
     },
     "execution_count": 3,
     "metadata": {},
     "output_type": "execute_result"
    }
   ],
   "source": [
    "vmult.signature"
   ]
  },
  {
   "cell_type": "markdown",
   "metadata": {},
   "source": [
    "As you may have noticed, the two signatures have some missing items. In the case of `vadd`, only the two input buffers and the size are expected, while for `vmult` what is missing is one of the input buffers. This is because the `vadd` output and `vmult` second input are streams that cannot be accessed from host, and so they are not required to be passed to `.call()`.\n",
    "\n",
    "We can instead use the `.stream` property to list the available streams for each kernel, and their layout (i.e. the source and sink of the stream channel). You can see below that `out_r` of `vadd` is the source, while `in2` of `vmult` is the sink of the same stream channel."
   ]
  },
  {
   "cell_type": "code",
   "execution_count": 4,
   "metadata": {},
   "outputs": [
    {
     "data": {
      "text/plain": [
       "{'out_r': XrtStream(source=krnl_stream_vadd_1.out_r, sink=krnl_stream_vmult_1.in2)}"
      ]
     },
     "execution_count": 4,
     "metadata": {},
     "output_type": "execute_result"
    }
   ],
   "source": [
    "vadd.streams"
   ]
  },
  {
   "cell_type": "code",
   "execution_count": 5,
   "metadata": {},
   "outputs": [
    {
     "data": {
      "text/plain": [
       "{'in2': XrtStream(source=krnl_stream_vadd_1.out_r, sink=krnl_stream_vmult_1.in2)}"
      ]
     },
     "execution_count": 5,
     "metadata": {},
     "output_type": "execute_result"
    }
   ],
   "source": [
    "vmult.streams"
   ]
  },
  {
   "cell_type": "markdown",
   "metadata": {},
   "source": [
    "## Buffers allocation\n",
    "\n",
    "As introduced in the [kernel optimizations](./1-kernel-optimizations.ipynb) notebook, the employed overlay uses multiple memory banks, so when doing buffers allocation we are required to explicitly provide the target bank. We therefore use the `.args` property of the kernels to know where the required buffers need to be allocated."
   ]
  },
  {
   "cell_type": "code",
   "execution_count": 6,
   "metadata": {},
   "outputs": [
    {
     "data": {
      "text/plain": [
       "{'in1': XrtArgument(name='in1', index=1, type='int*', mem='bank0'),\n",
       " 'in2': XrtArgument(name='in2', index=2, type='int*', mem='bank0'),\n",
       " 'size': XrtArgument(name='size', index=3, type='int', mem=None)}"
      ]
     },
     "execution_count": 6,
     "metadata": {},
     "output_type": "execute_result"
    }
   ],
   "source": [
    "vadd.args"
   ]
  },
  {
   "cell_type": "code",
   "execution_count": 7,
   "metadata": {},
   "outputs": [
    {
     "data": {
      "text/plain": [
       "{'in1': XrtArgument(name='in1', index=1, type='int*', mem='bank0'),\n",
       " 'out_r': XrtArgument(name='out_r', index=2, type='int*', mem='bank0'),\n",
       " 'size': XrtArgument(name='size', index=3, type='int', mem=None)}"
      ]
     },
     "execution_count": 7,
     "metadata": {},
     "output_type": "execute_result"
    }
   ],
   "source": [
    "vmult.args"
   ]
  },
  {
   "cell_type": "markdown",
   "metadata": {},
   "source": [
    "All the buffers in this case need to be allocated on `bank0`. Therefore, we set `target=ol.bank0` when invoking `pynq.allocate`.\n",
    "We then use numpy to initialize all elements of these buffers with random integers in the range [0, 1000)."
   ]
  },
  {
   "cell_type": "code",
   "execution_count": 8,
   "metadata": {},
   "outputs": [],
   "source": [
    "import numpy as np\n",
    "\n",
    "size = 1024*1024\n",
    "in1_vadd = pynq.allocate((1024, 1024), 'i4', target=ol.bank0)\n",
    "in2_vadd = pynq.allocate((1024, 1024), 'i4', target=ol.bank0)\n",
    "in1_vmult = pynq.allocate((1024, 1024), 'i4', target=ol.bank0)\n",
    "out = pynq.allocate((1024, 1024), 'i4', target=ol.bank0)\n",
    "\n",
    "in1_vadd[:] = np.random.randint(1000, size=(1024, 1024))\n",
    "in2_vadd[:] = np.random.randint(1000, size=(1024, 1024))\n",
    "in1_vmult[:] = np.random.randint(1000, size=(1024, 1024))"
   ]
  },
  {
   "cell_type": "markdown",
   "metadata": {},
   "source": [
    "## Kernels execution\n",
    "\n",
    "We can now invoke the two kernels, and as we did before, we also need to sync the input and output buffers. Since, as previously mentioned, the streams are not externally accessible, they are not present in the kernels' signatures and therefore are absent in the cell below.\n",
    "\n",
    "Another important remark is that, since the two kernels are connected by a stream channel, we cannot invoke the synchronous `.call` on `vadd`, or the execution will stall. This is because the host will synchronously wait for `vadd` to finish before starting `vmult`, that will therefore never consume the data produced by `vadd`, stalling the entire execution.\n",
    "\n",
    "We instead use `.start()` for `vadd`, that is asynchronous."
   ]
  },
  {
   "cell_type": "code",
   "execution_count": 9,
   "metadata": {},
   "outputs": [],
   "source": [
    "in1_vadd.sync_to_device()\n",
    "in2_vadd.sync_to_device()\n",
    "in1_vmult.sync_to_device()\n",
    "\n",
    "vadd.start(in1_vadd, in2_vadd, size)\n",
    "vmult.call(in1_vmult, out, size)\n",
    "\n",
    "out.sync_from_device()"
   ]
  },
  {
   "cell_type": "markdown",
   "metadata": {},
   "source": [
    "Finally, we compare the results of the FPGA execution with software using `numpy.array_equal`."
   ]
  },
  {
   "cell_type": "code",
   "execution_count": 10,
   "metadata": {},
   "outputs": [
    {
     "data": {
      "text/plain": [
       "True"
      ]
     },
     "execution_count": 10,
     "metadata": {},
     "output_type": "execute_result"
    }
   ],
   "source": [
    "np.array_equal(out, (in1_vadd + in2_vadd) * in1_vmult)"
   ]
  },
  {
   "cell_type": "markdown",
   "metadata": {},
   "source": [
    "## Cleaning up\n",
    "\n",
    "And to conclude, let's free the resources so the FPGA will be available for use with another application."
   ]
  },
  {
   "cell_type": "code",
   "execution_count": 11,
   "metadata": {},
   "outputs": [],
   "source": [
    "del in1_vadd\n",
    "del in2_vadd\n",
    "del in1_vmult\n",
    "del out\n",
    "ol.free()"
   ]
  },
  {
   "cell_type": "markdown",
   "metadata": {},
   "source": [
    "Copyright (C) 2020 Xilinx, Inc"
   ]
  }
 ],
 "metadata": {
  "kernelspec": {
   "display_name": "Python 3",
   "language": "python",
   "name": "python3"
  },
  "language_info": {
   "codemirror_mode": {
    "name": "ipython",
    "version": 3
   },
   "file_extension": ".py",
   "mimetype": "text/x-python",
   "name": "python",
   "nbconvert_exporter": "python",
   "pygments_lexer": "ipython3",
   "version": "3.7.1"
  }
 },
 "nbformat": 4,
 "nbformat_minor": 2
}
