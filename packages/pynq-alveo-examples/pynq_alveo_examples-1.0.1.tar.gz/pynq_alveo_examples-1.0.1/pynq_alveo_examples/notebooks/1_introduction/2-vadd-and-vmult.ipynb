{
 "cells": [
  {
   "cell_type": "markdown",
   "metadata": {},
   "source": [
    "# Extended Example\n",
    "\n",
    "## Vector Addition and Vector Multiplication\n",
    "\n",
    "Feed the output of vector addition to vector multiplication, without transferring the intermediate result to host.\n",
    "\n",
    "In this second example, alongside the previously introduced [vector addition](https://github.com/Xilinx/Vitis_Accel_Examples/tree/63bae10d581df40cf9402ed71ea825476751305d/hello_world) kernel, we also use the vector multiplication kernel included in the [SLR assign](https://github.com/Xilinx/Vitis_Accel_Examples/tree/63bae10d581df40cf9402ed71ea825476751305d/sys_opt/slr_assign) application of the [Vitis Accel Examples](https://github.com/Xilinx/Vitis_Accel_Examples/tree/63bae10d581df40cf9402ed71ea825476751305d).\n",
    "\n",
    "![vadd-vmult](img/vadd-vmult.png \"Vector Addition and Vector Multiplication\")\n",
    "\n",
    "See below for a [breakdown of the code](#Step-by-step-walkthrough-of-the-example)."
   ]
  },
  {
   "cell_type": "code",
   "execution_count": null,
   "metadata": {},
   "outputs": [],
   "source": [
    "import pynq\n",
    "import numpy as np\n",
    "\n",
    "# program the device\n",
    "ol = pynq.Overlay(\"intro.xclbin\")\n",
    "\n",
    "vadd = ol.vadd_1\n",
    "vmult = ol.vmult_1\n",
    "\n",
    "# allocate buffers\n",
    "size = 1024*1024\n",
    "in1_vadd = pynq.allocate((1024, 1024), np.uint32)\n",
    "in2_vadd = pynq.allocate((1024, 1024), np.uint32)\n",
    "in1_vmult = pynq.allocate((1024, 1024), np.uint32)\n",
    "in2_vmult = pynq.allocate((1024, 1024), np.uint32)\n",
    "out = pynq.allocate((1024, 1024), np.uint32)\n",
    "\n",
    "# initialize input\n",
    "in1_vadd[:] = np.random.randint(1000, size=(1024, 1024), dtype=np.uint32)\n",
    "in2_vadd[:] = np.random.randint(1000, size=(1024, 1024), dtype=np.uint32)\n",
    "in1_vmult[:] = np.random.randint(1000, size=(1024, 1024), dtype=np.uint32)\n",
    "\n",
    "# send data to the device\n",
    "in1_vadd.sync_to_device()\n",
    "in2_vadd.sync_to_device()\n",
    "in1_vmult.sync_to_device()\n",
    "\n",
    "# call kernels\n",
    "vadd.call(in1_vadd, in2_vadd, in2_vmult, size)\n",
    "vmult.call(in1_vmult, in2_vmult, out, size)\n",
    "\n",
    "# get data from the device\n",
    "out.sync_from_device()\n",
    "\n",
    "# check results\n",
    "msg = \"SUCCESS!\" if np.array_equal(out, (in1_vadd + in2_vadd) * in1_vmult) else \"FAILURE!\"\n",
    "print(msg)\n",
    "\n",
    "# clean up\n",
    "del in1_vadd\n",
    "del in2_vadd\n",
    "del in1_vmult\n",
    "del in2_vmult\n",
    "del out\n",
    "ol.free()"
   ]
  },
  {
   "cell_type": "markdown",
   "metadata": {},
   "source": [
    "## Step-by-step walkthrough of the example\n",
    "\n",
    "### Overlay download"
   ]
  },
  {
   "cell_type": "code",
   "execution_count": null,
   "metadata": {},
   "outputs": [],
   "source": [
    "import pynq\n",
    "ol = pynq.Overlay(\"intro.xclbin\")\n",
    "\n",
    "vadd = ol.vadd_1"
   ]
  },
  {
   "cell_type": "markdown",
   "metadata": {},
   "source": [
    "We assign the vector multiplication kernel IP included in the overlay to a variable called `vmult`, and print the `.signature` similarly to what we have done for `vadd`."
   ]
  },
  {
   "cell_type": "code",
   "execution_count": 7,
   "metadata": {},
   "outputs": [
    {
     "data": {
      "text/plain": [
       "<Signature (A:'int*', B:'int*', C:'int*', n_elements:'int')>"
      ]
     },
     "execution_count": 7,
     "metadata": {},
     "output_type": "execute_result"
    }
   ],
   "source": [
    "vmult = ol.vmult_1\n",
    "vmult.signature"
   ]
  },
  {
   "cell_type": "markdown",
   "metadata": {},
   "source": [
    "### Buffers allocation\n",
    "\n",
    "For this example, we will take the result of `vadd` and feed it to `vmult`. Let's allocate the required buffers. Again, `u4` means `uint32` as explained in the [`numpy.dtypes`](https://docs.scipy.org/doc/numpy/reference/arrays.dtypes.html#arrays-dtypes) documentation."
   ]
  },
  {
   "cell_type": "code",
   "execution_count": 8,
   "metadata": {},
   "outputs": [],
   "source": [
    "size = 1024*1024\n",
    "in1_vadd = pynq.allocate((1024, 1024), 'u4')\n",
    "in2_vadd = pynq.allocate((1024, 1024), 'u4')\n",
    "in1_vmult = pynq.allocate((1024, 1024), 'u4')\n",
    "in2_vmult = pynq.allocate((1024, 1024), 'u4')\n",
    "out = pynq.allocate((1024, 1024), 'u4')"
   ]
  },
  {
   "cell_type": "markdown",
   "metadata": {},
   "source": [
    "The `in2_vmult` buffer will be used to store the output of `vadd`, so we need only to initialize the two input buffers for `vadd`, `in1_vadd` and `in2_vadd`, and the other input buffer for `vmult` that is `in1_vmult`. We set these buffers' elements to random integers in the range [0, 1000)."
   ]
  },
  {
   "cell_type": "code",
   "execution_count": 9,
   "metadata": {},
   "outputs": [],
   "source": [
    "in1_vadd[:] = np.random.randint(1000, size=(1024, 1024), dtype='u4')\n",
    "in2_vadd[:] = np.random.randint(1000, size=(1024, 1024), dtype='u4')\n",
    "in1_vmult[:] = np.random.randint(1000, size=(1024, 1024), dtype='u4')"
   ]
  },
  {
   "cell_type": "markdown",
   "metadata": {},
   "source": [
    "### Run the kernels\n",
    "\n",
    "Similarly to what we did for the previous example, we have to `.sync_to_device()` the input buffers, and after executing the kernels using `.call()`, we have to `.sync_from_device()` the output buffer to transfer data back to the host memory. However, since `in2_vmult` is used as exchange buffer between `vadd` and `vmult`, and we need not to see its data from host, we don't need to sync it with host.\n",
    "\n",
    "Again, we use the `%%timeit` magic to get an average of the execution time."
   ]
  },
  {
   "cell_type": "code",
   "execution_count": 10,
   "metadata": {},
   "outputs": [
    {
     "name": "stdout",
     "output_type": "stream",
     "text": [
      "32.2 ms ± 51.4 µs per loop (mean ± std. dev. of 7 runs, 10 loops each)\n"
     ]
    }
   ],
   "source": [
    "%%timeit\n",
    "in1_vadd.sync_to_device()\n",
    "in2_vadd.sync_to_device()\n",
    "in1_vmult.sync_to_device()\n",
    "\n",
    "vadd.call(in1_vadd, in2_vadd, in2_vmult, size)\n",
    "vmult.call(in1_vmult, in2_vmult, out, size)\n",
    "\n",
    "out.sync_from_device()"
   ]
  },
  {
   "cell_type": "markdown",
   "metadata": {},
   "source": [
    "And finally, we compare the result with software to check that the kernels correctly executed."
   ]
  },
  {
   "cell_type": "code",
   "execution_count": 11,
   "metadata": {
    "scrolled": true
   },
   "outputs": [
    {
     "data": {
      "text/plain": [
       "True"
      ]
     },
     "execution_count": 11,
     "metadata": {},
     "output_type": "execute_result"
    }
   ],
   "source": [
    "np.array_equal(out, (in1_vadd + in2_vadd) * in1_vmult)"
   ]
  },
  {
   "cell_type": "markdown",
   "metadata": {},
   "source": [
    "## Cleaning up\n",
    "\n",
    "Finally, we have to deallocate the buffers and free the FPGA context using `Overlay.free`."
   ]
  },
  {
   "cell_type": "code",
   "execution_count": 12,
   "metadata": {},
   "outputs": [],
   "source": [
    "del in1_vadd\n",
    "del in2_vadd\n",
    "del in1_vmult\n",
    "del in2_vmult\n",
    "del out\n",
    "ol.free()"
   ]
  },
  {
   "cell_type": "markdown",
   "metadata": {},
   "source": [
    "Copyright (C) 2020 Xilinx, Inc"
   ]
  }
 ],
 "metadata": {
  "kernelspec": {
   "display_name": "Python 3",
   "language": "python",
   "name": "python3"
  },
  "language_info": {
   "codemirror_mode": {
    "name": "ipython",
    "version": 3
   },
   "file_extension": ".py",
   "mimetype": "text/x-python",
   "name": "python",
   "nbconvert_exporter": "python",
   "pygments_lexer": "ipython3",
   "version": "3.7.1"
  }
 },
 "nbformat": 4,
 "nbformat_minor": 2
}
