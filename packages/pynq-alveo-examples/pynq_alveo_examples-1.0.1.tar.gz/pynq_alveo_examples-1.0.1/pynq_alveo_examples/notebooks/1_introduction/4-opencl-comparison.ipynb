{
 "cells": [
  {
   "cell_type": "markdown",
   "metadata": {},
   "source": [
    "# Introduction to PYNQ for Alveo\n",
    "\n",
    "In this notebook we will explore how PYNQ compares with OpenCL when interacting with an Alveo device. To this purpose, we will use the [hello world](https://github.com/Xilinx/Vitis_Accel_Examples/tree/63bae10d581df40cf9402ed71ea825476751305d/hello_world) application of the [Vitis Accel Examples' Repository](https://github.com/Xilinx/Vitis_Accel_Examples/tree/63bae10d581df40cf9402ed71ea825476751305d).\n",
    "\n",
    "The comparison is mainly visual, and is done by putting side-to-side the code from the original [host.cpp](https://github.com/Xilinx/Vitis_Accel_Examples/blob/63bae10d581df40cf9402ed71ea825476751305d/hello_world/src/host.cpp) from the Vitis_Accel_Examples' hello_world application, and the code from the vector addition [notebook](./1-vector-addition.ipynb), since they both use the same kernel. Code from the OpenCL source file is edited for readability."
   ]
  },
  {
   "cell_type": "markdown",
   "metadata": {},
   "source": [
    "![pynq-opencl](img/pynq-opencl.png \"PYNQ vs OpenCL comparison\")"
   ]
  },
  {
   "cell_type": "markdown",
   "metadata": {},
   "source": [
    "## Code Walkthrough\n",
    "\n",
    "### Device initialization\n",
    "\n",
    "The first thing to do in both cases, is to program the device and initialize the software context.\n",
    "In the OpenCL version, this is achieved with the following code\n",
    "\n",
    "```cpp\n",
    "auto devices = xcl::get_xil_devices();\n",
    "auto fileBuf = xcl::read_binary_file(binaryFile);\n",
    "cl::Program::Binaries bins{{fileBuf.data(), fileBuf.size()}};\n",
    "OCL_CHECK(err, context = cl::Context({device}, NULL, NULL, NULL, &err));\n",
    "OCL_CHECK(err, q = cl::CommandQueue(context, {device}, CL_QUEUE_PROFILING_ENABLE, &err));\n",
    "OCL_CHECK(err, cl::Program program(context, {device}, bins, NULL, &err));\n",
    "OCL_CHECK(err, krnl_vector_add = cl::Kernel(program, \"vadd\", &err));\n",
    "```\n",
    "\n",
    "In particular, the `get_xil_devices()` function finds the available Xilinx devices and return them as a list. Then, `read_binary_file()` loads the binary file (the `.xclbin`) and returns a pointer to the loaded file, that is then consumed to initialize the `bins` object. A new OpenCL `context` is then created, that will be used for this run. After that, a command queue `q` is created, in order to send commands to the device.\n",
    "Then, the detected `device` is programmed, and finally the vector addition kernel included in the design is assigned to the `krnl_vector_add` variable.\n",
    "\n",
    "With PYNQ, the same set of operations is achieved by intantiating a `pynq.Overlay` object (the device is programmed at this stage), and then assigning the vector addition kernel to the `vadd` variable, accessing directly the overlay."
   ]
  },
  {
   "cell_type": "code",
   "execution_count": 1,
   "metadata": {},
   "outputs": [
    {
     "data": {
      "application/javascript": [
       "\n",
       "try {\n",
       "require(['notebook/js/codecell'], function(codecell) {\n",
       "  codecell.CodeCell.options_default.highlight_modes[\n",
       "      'magic_text/x-csrc'] = {'reg':[/^%%microblaze/]};\n",
       "  Jupyter.notebook.events.one('kernel_ready.Kernel', function(){\n",
       "      Jupyter.notebook.get_cells().map(function(cell){\n",
       "          if (cell.cell_type == 'code'){ cell.auto_highlight(); } }) ;\n",
       "  });\n",
       "});\n",
       "} catch (e) {};\n"
      ]
     },
     "metadata": {},
     "output_type": "display_data"
    }
   ],
   "source": [
    "import pynq\n",
    "ol = pynq.Overlay(\"intro.xclbin\")\n",
    "vadd = ol.vadd_1"
   ]
  },
  {
   "cell_type": "markdown",
   "metadata": {},
   "source": [
    "If you want to use multiple devices, you can pass the `device` argument when you instantiate a `pynq.Overlay` object. Of course, you have to make sure the overlay you are trying to load is compatible with the target device, or an exception will be raised.\n",
    "```python3\n",
    "ol = pynq.Overlay(\"intro.xclbin\", device=another_device)\n",
    "```\n",
    "Devices can be listed accessing `pynq.Device.devices`.\n",
    "\n",
    "### Buffers allocation\n",
    "\n",
    "In OpenCL host and FPGA buffers need to be handled separately. Therefore, we first have to create the host buffer, and only after that is done, we can instantiate the FPGA buffer, linking it to the corresponding host buffer.\n",
    "\n",
    "```cpp\n",
    "std::vector<int, aligned_allocator<int>> source_in1(DATA_SIZE);\n",
    "std::vector<int, aligned_allocator<int>> source_in2(DATA_SIZE);\n",
    "std::vector<int, aligned_allocator<int>> source_hw_results(DATA_SIZE);\n",
    "OCL_CHECK(err, l::Buffer buffer_in1(context,\n",
    "    CL_MEM_USE_HOST_PTR | CL_MEM_READ_ONLY, vector_size_bytes,\n",
    "    source_in1.data(), &err));\n",
    "OCL_CHECK(err, cl::Buffer buffer_in2(context,\n",
    "    CL_MEM_USE_HOST_PTR | CL_MEM_READ_ONLY,  vector_size_bytes,\n",
    "    source_in2.data(), &err));\n",
    "OCL_CHECK(err, cl::Buffer buffer_output(context,\n",
    "    CL_MEM_USE_HOST_PTR | CL_MEM_WRITE_ONLY, vector_size_bytes,\n",
    "    source_hw_results.data(), &err));\n",
    "```\n",
    "\n",
    "With PYNQ, buffers allocation is carried by [`pynq.allocate`](https://pynq.readthedocs.io/en/v2.5/pynq_libraries/allocate.html), which provides the same interface as a [`numpy.ndarray`](https://docs.scipy.org/doc/numpy/reference/generated/numpy.ndarray.html). Host and FPGA buffers are transparently managed, and the user is only presented with a single interface for both"
   ]
  },
  {
   "cell_type": "code",
   "execution_count": 2,
   "metadata": {},
   "outputs": [],
   "source": [
    "size = 1024*1024\n",
    "in1 = pynq.allocate((1024, 1024), 'u4')\n",
    "in2 = pynq.allocate((1024, 1024), 'u4')\n",
    "out = pynq.allocate((1024, 1024), 'u4')"
   ]
  },
  {
   "cell_type": "markdown",
   "metadata": {},
   "source": [
    "### Send data from host to FPGA\n",
    "\n",
    "The `enqueueMigrateMemObjects()` is used in OpenCL to initiate data transfers. The developer must specify the direction as a function parameter. In this case, we are sending data from the host to the FPGA memory, therefore we need to pass `0` as direction.\n",
    "\n",
    "```cpp\n",
    "OCL_CHECK(err, err = q.enqueueMigrateMemObjects({buffer_in1, buffer_in2},\n",
    "                                                0 /* 0 means from host*/));\n",
    "```\n",
    "\n",
    "The same behavior is achieved in PYNQ by invoking `.sync_to_device()` on each input buffer"
   ]
  },
  {
   "cell_type": "code",
   "execution_count": 3,
   "metadata": {},
   "outputs": [],
   "source": [
    "in1.sync_to_device()\n",
    "in2.sync_to_device()"
   ]
  },
  {
   "cell_type": "markdown",
   "metadata": {},
   "source": [
    "### Run the kernel\n",
    "\n",
    "To run the kernel in OpenCL each kernel argument need to be set explicitly using the `setArgs()` function, before starting the execution with `enqueueTask()`.\n",
    "\n",
    "```cpp\n",
    "int size = DATA_SIZE;\n",
    "OCL_CHECK(err, err = krnl_vector_add.setArg(0, buffer_in1));\n",
    "OCL_CHECK(err, err = krnl_vector_add.setArg(1, buffer_in2));\n",
    "OCL_CHECK(err, err = krnl_vector_add.setArg(2, buffer_output));\n",
    "OCL_CHECK(err, err = krnl_vector_add.setArg(3, size));\n",
    "// send data here\n",
    "OCL_CHECK(err, err = q.enqueueTask(krnl_vector_add));\n",
    "// retrieve data here\n",
    "q.finish();\n",
    "```\n",
    "\n",
    "In PYNQ, we use the `.call()` function to do everything in a single line. The function will take care of correctly setting the `register_map` of the IP and send the start signal."
   ]
  },
  {
   "cell_type": "code",
   "execution_count": 4,
   "metadata": {},
   "outputs": [],
   "source": [
    "vadd.call(in1, in2, out, size)"
   ]
  },
  {
   "cell_type": "markdown",
   "metadata": {},
   "source": [
    "### Receive data from FPGA to host\n",
    "\n",
    "Again, the `enqueueMigrateMemObjects()` is used in OpenCL to initiate data transfers. In this case, we are retrieving data from the FPGA to the host memory, and the host code here uses the `CL_MIGRATE_MEM_OBJECT_HOST` constant.\n",
    "\n",
    "```cpp\n",
    "OCL_CHECK(err, err = q.enqueueMigrateMemObjects({buffer_output},\n",
    "                                                CL_MIGRATE_MEM_OBJECT_HOST));\n",
    "```\n",
    "\n",
    "We achieve the same in PYNQ by calling `.sync_from_device()` on our output buffer"
   ]
  },
  {
   "cell_type": "code",
   "execution_count": 5,
   "metadata": {},
   "outputs": [],
   "source": [
    "out.sync_from_device()"
   ]
  },
  {
   "cell_type": "markdown",
   "metadata": {},
   "source": [
    "## Cleaning up\n",
    "\n",
    "Let us clean up the allocated resources before ending this notebook."
   ]
  },
  {
   "cell_type": "code",
   "execution_count": 6,
   "metadata": {},
   "outputs": [],
   "source": [
    "del in1\n",
    "del in2\n",
    "del out\n",
    "ol.free()"
   ]
  },
  {
   "cell_type": "markdown",
   "metadata": {},
   "source": [
    "Copyright (C) 2020 Xilinx, Inc"
   ]
  }
 ],
 "metadata": {
  "kernelspec": {
   "display_name": "Python 3",
   "language": "python",
   "name": "python3"
  },
  "language_info": {
   "codemirror_mode": {
    "name": "ipython",
    "version": 3
   },
   "file_extension": ".py",
   "mimetype": "text/x-python",
   "name": "python",
   "nbconvert_exporter": "python",
   "pygments_lexer": "ipython3",
   "version": "3.7.1"
  }
 },
 "nbformat": 4,
 "nbformat_minor": 2
}
