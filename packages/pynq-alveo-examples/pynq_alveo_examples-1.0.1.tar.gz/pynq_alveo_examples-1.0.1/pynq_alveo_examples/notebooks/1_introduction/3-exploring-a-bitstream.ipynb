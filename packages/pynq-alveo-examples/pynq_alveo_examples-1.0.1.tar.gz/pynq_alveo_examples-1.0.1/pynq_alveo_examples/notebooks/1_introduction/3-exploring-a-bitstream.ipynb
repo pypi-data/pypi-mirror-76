{
 "cells": [
  {
   "cell_type": "markdown",
   "metadata": {},
   "source": [
    "# Exploring an XCLBIN file with PYNQ\n",
    "\n",
    "In this notebook we explore the ways that PYNQ can be used to see what's in an xclbin file.\n",
    "\n",
    "To start with we'll download a bitstream from the internet using the `urllib` library that comes as part of the standard library. The bitstream is from the kernel optimisation notebooks but any other accessible xclbin file could be used. Any xclbin file generated from Vitis is usable from PYNQ without any changes"
   ]
  },
  {
   "cell_type": "code",
   "execution_count": 1,
   "metadata": {},
   "outputs": [],
   "source": [
    "import urllib.request\n",
    "\n",
    "with urllib.request.urlopen('https://bit.ly/38ukSXG') as source, \\\n",
    "     open('downloaded.xclbin', 'wb') as sink:\n",
    "    data = source.read()\n",
    "    sink.write(data)"
   ]
  },
  {
   "cell_type": "markdown",
   "metadata": {},
   "source": [
    "The starting point of all xclbin files is the `Overlay` class. To explore the bitstream without downloading it we can pass the `download=False` parameters to the constructor. This won't let us instantiate drivers but we can still explore the data-structures contained in the xclbin file."
   ]
  },
  {
   "cell_type": "code",
   "execution_count": 2,
   "metadata": {},
   "outputs": [
    {
     "data": {
      "application/javascript": [
       "\n",
       "try {\n",
       "require(['notebook/js/codecell'], function(codecell) {\n",
       "  codecell.CodeCell.options_default.highlight_modes[\n",
       "      'magic_text/x-csrc'] = {'reg':[/^%%microblaze/]};\n",
       "  Jupyter.notebook.events.one('kernel_ready.Kernel', function(){\n",
       "      Jupyter.notebook.get_cells().map(function(cell){\n",
       "          if (cell.cell_type == 'code'){ cell.auto_highlight(); } }) ;\n",
       "  });\n",
       "});\n",
       "} catch (e) {};\n"
      ]
     },
     "metadata": {},
     "output_type": "display_data"
    }
   ],
   "source": [
    "import pynq\n",
    "\n",
    "ol = pynq.Overlay('downloaded.xclbin', download=False)"
   ]
  },
  {
   "cell_type": "markdown",
   "metadata": {},
   "source": [
    "To list everything in a bitstream inside Jupyter you can use the `?` operator to display the instance's documentation. This is dynamically generated based on the metadata encoded within the xclbin file."
   ]
  },
  {
   "cell_type": "code",
   "execution_count": 3,
   "metadata": {},
   "outputs": [
    {
     "data": {
      "text/plain": [
       "\u001b[0;31mType:\u001b[0m            Overlay\n",
       "\u001b[0;31mString form:\u001b[0m     <pynq.overlay.Overlay object at 0x7f50cb89b990>\n",
       "\u001b[0;31mFile:\u001b[0m            /scratch/pynq-testing/ogden/conda/lib/python3.7/site-packages/pynq/overlay.py\n",
       "\u001b[0;31mDocstring:\u001b[0m      \n",
       "Default documentation for overlay downloaded.xclbin. The following\n",
       "attributes are available on this overlay:\n",
       "\n",
       "IP Blocks\n",
       "----------\n",
       "vadd_wide_multibanks_1 : pynq.overlay.DefaultIP\n",
       "vadd_wide_1          : pynq.overlay.DefaultIP\n",
       "krnl_stream_vadd_1   : pynq.overlay.DefaultIP\n",
       "krnl_stream_vmult_1  : pynq.overlay.DefaultIP\n",
       "\n",
       "Hierarchies\n",
       "-----------\n",
       "None\n",
       "\n",
       "Interrupts\n",
       "----------\n",
       "None\n",
       "\n",
       "GPIO Outputs\n",
       "------------\n",
       "None\n",
       "\n",
       "Memories\n",
       "------------\n",
       "bank0                : Memory\n",
       "bank1                : Memory\n",
       "bank2                : Memory\n",
       "dc_0                 : Stream\n",
       "\u001b[0;31mClass docstring:\u001b[0m\n",
       "This class keeps track of a single bitstream's state and contents.\n",
       "\n",
       "The overlay class holds the state of the bitstream and enables run-time\n",
       "protection of bindlings.\n",
       "\n",
       "Our definition of overlay is: \"post-bitstream configurable design\".\n",
       "Hence, this class must expose configurability through content discovery\n",
       "and runtime protection.\n",
       "\n",
       "The overlay class exposes the IP and hierarchies as attributes in the\n",
       "overlay. If no other drivers are available the `DefaultIP` is constructed\n",
       "for IP cores at top level and `DefaultHierarchy` for any hierarchies that\n",
       "contain addressable IP. Custom drivers can be bound to IP and hierarchies\n",
       "by subclassing `DefaultIP` and `DefaultHierarchy`. See the help entries\n",
       "for those class for more details.\n",
       "\n",
       "This class stores four dictionaries: IP, GPIO, interrupt controller\n",
       "and interrupt pin dictionaries.\n",
       "\n",
       "Each entry of the IP dictionary is a mapping:\n",
       "'name' -> {phys_addr, addr_range, type, config, state}, where\n",
       "name (str) is the key of the entry.\n",
       "phys_addr (int) is the physical address of the IP.\n",
       "addr_range (int) is the address range of the IP.\n",
       "type (str) is the type of the IP.\n",
       "config (dict) is a dictionary of the configuration parameters.\n",
       "state (str) is the state information about the IP.\n",
       "\n",
       "Each entry of the GPIO dictionary is a mapping:\n",
       "'name' -> {pin, state}, where\n",
       "name (str) is the key of the entry.\n",
       "pin (int) is the user index of the GPIO, starting from 0.\n",
       "state (str) is the state information about the GPIO.\n",
       "\n",
       "Each entry in the interrupt controller dictionary is a mapping:\n",
       "'name' -> {parent, index}, where\n",
       "name (str) is the name of the interrupt controller.\n",
       "parent (str) is the name of the parent controller or '' if attached\n",
       "directly to the PS.\n",
       "index (int) is the index of the interrupt attached to.\n",
       "\n",
       "Each entry in the interrupt pin dictionary is a mapping:\n",
       "'name' -> {controller, index}, where\n",
       "name (str) is the name of the pin.\n",
       "controller (str) is the name of the interrupt controller.\n",
       "index (int) is the line index.\n",
       "\n",
       "Attributes\n",
       "----------\n",
       "bitfile_name : str\n",
       "    The absolute path of the bitstream.\n",
       "dtbo : str\n",
       "    The absolute path of the dtbo file for the full bitstream.\n",
       "ip_dict : dict\n",
       "    All the addressable IPs from PS. Key is the name of the IP; value is\n",
       "    a dictionary mapping the physical address, address range, IP type,\n",
       "    parameters, registers, and the state associated with that IP:\n",
       "    {str: {'phys_addr' : int, 'addr_range' : int,                'type' : str, 'parameters' : dict, 'registers': dict,                'state' : str}}.\n",
       "gpio_dict : dict\n",
       "    All the GPIO pins controlled by PS. Key is the name of the GPIO pin;\n",
       "    value is a dictionary mapping user index (starting from 0),\n",
       "    and the state associated with that GPIO pin:\n",
       "    {str: {'index' : int, 'state' : str}}.\n",
       "interrupt_controllers : dict\n",
       "    All AXI interrupt controllers in the system attached to\n",
       "    a PS interrupt line. Key is the name of the controller;\n",
       "    value is a dictionary mapping parent interrupt controller and the\n",
       "    line index of this interrupt:\n",
       "    {str: {'parent': str, 'index' : int}}.\n",
       "    The PS is the root of the hierarchy and is unnamed.\n",
       "interrupt_pins : dict\n",
       "    All pins in the design attached to an interrupt controller.\n",
       "    Key is the name of the pin; value is a dictionary\n",
       "    mapping the interrupt controller and the line index used:\n",
       "    {str: {'controller' : str, 'index' : int}}.\n",
       "pr_dict : dict\n",
       "    Dictionary mapping from the name of the partial-reconfigurable\n",
       "    hierarchical blocks to the loaded partial bitstreams:\n",
       "    {str: {'loaded': str, 'dtbo': str}}.\n",
       "device : pynq.Device\n",
       "    The device that the overlay is loaded on\n",
       "\u001b[0;31mInit docstring:\u001b[0m \n",
       "Return a new Overlay object.\n",
       "\n",
       "An overlay instantiates a bitstream object as a member initially.\n",
       "\n",
       "Parameters\n",
       "----------\n",
       "bitfile_name : str\n",
       "    The bitstream name or absolute path as a string.\n",
       "dtbo : str\n",
       "    The dtbo file name or absolute path as a string.\n",
       "download : bool\n",
       "    Whether the overlay should be downloaded.\n",
       "ignore_version : bool\n",
       "    Indicate whether or not to ignore the driver versions.\n",
       "device : pynq.Device\n",
       "    Device on which to load the Overlay. Defaults to\n",
       "    pynq.Device.active_device\n",
       "\n",
       "Note\n",
       "----\n",
       "This class requires a Vivado TCL file to be next to bitstream file\n",
       "with same name (e.g. `base.bit` and `base.tcl`).\n"
      ]
     },
     "metadata": {},
     "output_type": "display_data"
    }
   ],
   "source": [
    "ol?"
   ]
  },
  {
   "cell_type": "markdown",
   "metadata": {},
   "source": [
    "More details on each object in the bitstream can be found from two dictionaries - the `ip_dict` containing the IP details and the `mem_dict` containing the memories and streams.\n",
    "\n",
    "## The IP Dictionary\n",
    "\n",
    "The `ip_dict` contains a lot of information so a good starting point is to just look at the keys of the dictionary."
   ]
  },
  {
   "cell_type": "code",
   "execution_count": 4,
   "metadata": {},
   "outputs": [
    {
     "data": {
      "text/plain": [
       "dict_keys(['vadd_wide_multibanks_1', 'vadd_wide_1', 'krnl_stream_vadd_1', 'krnl_stream_vmult_1'])"
      ]
     },
     "execution_count": 4,
     "metadata": {},
     "output_type": "execute_result"
    }
   ],
   "source": [
    "ol.ip_dict.keys()"
   ]
  },
  {
   "cell_type": "markdown",
   "metadata": {},
   "source": [
    "This exactly matches what was seen in the overlay documentation. We can now look in detail at one particular entry - the `vadd_wide_1`. If you are in JupyterLab this will create a searchable, hierarchical view of the dictionary."
   ]
  },
  {
   "cell_type": "code",
   "execution_count": 5,
   "metadata": {},
   "outputs": [
    {
     "data": {
      "application/json": {
       "addr_range": 4096,
       "adjusted_index": 0,
       "device": "<pynq.pl_server.xrt_device.XrtDevice object at 0x7f509f4bdcd0>",
       "driver": "<class 'pynq.overlay.DefaultIP'>",
       "fullpath": "vadd_wide_1",
       "gpio": {},
       "index": 2,
       "interrupts": {},
       "mem_id": null,
       "phys_addr": 25165824,
       "registers": {
        "CTRL": {
         "access": "read-write",
         "address_offset": 0,
         "description": "OpenCL Control Register",
         "fields": {
          "AP_DONE": {
           "access": "read-only",
           "bit_offset": 1,
           "bit_width": 1,
           "description": "Accelerator has finished - cleared on read"
          },
          "AP_IDLE": {
           "access": "read-only",
           "bit_offset": 2,
           "bit_width": 1,
           "description": "Accelerator is idle"
          },
          "AP_READY": {
           "access": "read-only",
           "bit_offset": 3,
           "bit_width": 1,
           "description": "Accelerator is ready to start next computation"
          },
          "AP_START": {
           "access": "read-write",
           "bit_offset": 0,
           "bit_width": 1,
           "description": "Start the accelerator"
          },
          "AUTO_RESTART": {
           "access": "read-write",
           "bit_offset": 7,
           "bit_width": 1,
           "description": "Restart the accelerator automatically when finished"
          }
         },
         "id": null,
         "size": 4,
         "type": "unsigned int"
        },
        "a": {
         "access": "read-write;",
         "address_offset": 16,
         "description": "OpenCL Argument Register",
         "id": 0,
         "memory": "bank1",
         "size": 64,
         "type": "ap_uint<512>*"
        },
        "b": {
         "access": "read-write;",
         "address_offset": 28,
         "description": "OpenCL Argument Register",
         "id": 1,
         "memory": "bank1",
         "size": 64,
         "type": "ap_uint<512>*"
        },
        "c": {
         "access": "read-write;",
         "address_offset": 40,
         "description": "OpenCL Argument Register",
         "id": 2,
         "memory": "bank1",
         "size": 64,
         "type": "ap_uint<512>*"
        },
        "count": {
         "access": "read-write;",
         "address_offset": 52,
         "description": "OpenCL Argument Register",
         "id": 3,
         "size": 32,
         "type": "int"
        }
       },
       "state": null,
       "streams": {},
       "type": "xilinx.com:hls:vadd_wide:1.0",
       "xclbin_uuid": "e36f085a554a4023a5f4ad76ee8ad170"
      },
      "text/plain": [
       "{'phys_addr': 25165824,\n",
       " 'addr_range': 4096,\n",
       " 'type': 'xilinx.com:hls:vadd_wide:1.0',\n",
       " 'fullpath': 'vadd_wide_1',\n",
       " 'registers': {'CTRL': {'address_offset': 0,\n",
       "   'access': 'read-write',\n",
       "   'size': 4,\n",
       "   'description': 'OpenCL Control Register',\n",
       "   'type': 'unsigned int',\n",
       "   'id': None,\n",
       "   'fields': {'AP_START': {'access': 'read-write',\n",
       "     'bit_offset': 0,\n",
       "     'bit_width': 1,\n",
       "     'description': 'Start the accelerator'},\n",
       "    'AP_DONE': {'access': 'read-only',\n",
       "     'bit_offset': 1,\n",
       "     'bit_width': 1,\n",
       "     'description': 'Accelerator has finished - cleared on read'},\n",
       "    'AP_IDLE': {'access': 'read-only',\n",
       "     'bit_offset': 2,\n",
       "     'bit_width': 1,\n",
       "     'description': 'Accelerator is idle'},\n",
       "    'AP_READY': {'access': 'read-only',\n",
       "     'bit_offset': 3,\n",
       "     'bit_width': 1,\n",
       "     'description': 'Accelerator is ready to start next computation'},\n",
       "    'AUTO_RESTART': {'access': 'read-write',\n",
       "     'bit_offset': 7,\n",
       "     'bit_width': 1,\n",
       "     'description': 'Restart the accelerator automatically when finished'}}},\n",
       "  'a': {'address_offset': 16,\n",
       "   'access': 'read-write;',\n",
       "   'size': 64,\n",
       "   'description': 'OpenCL Argument Register',\n",
       "   'type': 'ap_uint<512>*',\n",
       "   'id': 0,\n",
       "   'memory': 'bank1'},\n",
       "  'b': {'address_offset': 28,\n",
       "   'access': 'read-write;',\n",
       "   'size': 64,\n",
       "   'description': 'OpenCL Argument Register',\n",
       "   'type': 'ap_uint<512>*',\n",
       "   'id': 1,\n",
       "   'memory': 'bank1'},\n",
       "  'c': {'address_offset': 40,\n",
       "   'access': 'read-write;',\n",
       "   'size': 64,\n",
       "   'description': 'OpenCL Argument Register',\n",
       "   'type': 'ap_uint<512>*',\n",
       "   'id': 2,\n",
       "   'memory': 'bank1'},\n",
       "  'count': {'address_offset': 52,\n",
       "   'access': 'read-write;',\n",
       "   'size': 32,\n",
       "   'description': 'OpenCL Argument Register',\n",
       "   'type': 'int',\n",
       "   'id': 3}},\n",
       " 'streams': {},\n",
       " 'mem_id': None,\n",
       " 'state': None,\n",
       " 'interrupts': {},\n",
       " 'gpio': {},\n",
       " 'xclbin_uuid': 'e36f085a554a4023a5f4ad76ee8ad170',\n",
       " 'adjusted_index': 0,\n",
       " 'index': 2,\n",
       " 'device': <pynq.pl_server.xrt_device.XrtDevice at 0x7f509f4bdcd0>,\n",
       " 'driver': pynq.overlay.DefaultIP}"
      ]
     },
     "execution_count": 5,
     "metadata": {
      "application/json": {
       "expanded": false,
       "root": "vadd_wide_1"
      }
     },
     "output_type": "execute_result"
    }
   ],
   "source": [
    "ol.ip_dict['vadd_wide_1']"
   ]
  },
  {
   "cell_type": "markdown",
   "metadata": {},
   "source": [
    "Most of the dictionary is dedicated to the register map where each register and field is enumerated. This information is used by PYNQ to reconstruct the function call and to correctly program the accelerator as a function call. Other useful entries in the dictionary are `phys_addr` which gives the address of the control logic and `type` which identfies the IP core of the accelerator.\n",
    "\n",
    "## The Memory Dictionary\n",
    "\n",
    "The memory dictionary contains information on the memory banks and streams in the system. Again we can dump the keys before having a closer look."
   ]
  },
  {
   "cell_type": "code",
   "execution_count": 6,
   "metadata": {},
   "outputs": [
    {
     "data": {
      "text/plain": [
       "dict_keys(['bank0', 'bank1', 'bank2', 'bank3', 'PLRAM[0]', 'PLRAM[1]', 'PLRAM[2]', 'dc_0'])"
      ]
     },
     "execution_count": 6,
     "metadata": {},
     "output_type": "execute_result"
    }
   ],
   "source": [
    "ol.mem_dict.keys()"
   ]
  },
  {
   "cell_type": "markdown",
   "metadata": {},
   "source": [
    "In most cases the xclbin file will contain information on all memory banks in the platform and this information carries through into the dictionary. This means that not all banks in the dictionary are actually used or accessible in the design. There is a `used` key in each sub-dictionary to determine whether a bank is used in the bitstream."
   ]
  },
  {
   "cell_type": "code",
   "execution_count": 7,
   "metadata": {},
   "outputs": [
    {
     "data": {
      "application/json": {
       "base_address": 481036337152,
       "idx": 3,
       "raw_type": 1,
       "size": 17179869184,
       "streaming": false,
       "type": "DDR4",
       "used": 0
      },
      "text/plain": [
       "{'raw_type': 1,\n",
       " 'used': 0,\n",
       " 'base_address': 481036337152,\n",
       " 'size': 17179869184,\n",
       " 'type': 'DDR4',\n",
       " 'streaming': False,\n",
       " 'idx': 3}"
      ]
     },
     "execution_count": 7,
     "metadata": {
      "application/json": {
       "expanded": false,
       "root": "bank3"
      }
     },
     "output_type": "execute_result"
    }
   ],
   "source": [
    "ol.mem_dict['bank3']"
   ]
  },
  {
   "cell_type": "markdown",
   "metadata": {},
   "source": [
    "The `base_address` and `size` fields can be useful for debugging allocated buffers and ensuring there is sufficient memory to run an application. The rest of the sub-dictionary is primarily for the internals of PYNQ to be able to interact with the hardware correctly.\n",
    "\n",
    "For streams the `streaming` key will be to `True` and a different set of entries are listed in the dictionary:"
   ]
  },
  {
   "cell_type": "code",
   "execution_count": 8,
   "metadata": {},
   "outputs": [
    {
     "data": {
      "application/json": {
       "flow_id": 0,
       "idx": 7,
       "raw_type": 9,
       "route_id": 0,
       "streaming": true,
       "type": "AXI Stream",
       "used": 1
      },
      "text/plain": [
       "{'raw_type': 9,\n",
       " 'used': 1,\n",
       " 'flow_id': 0,\n",
       " 'route_id': 0,\n",
       " 'type': 'AXI Stream',\n",
       " 'streaming': True,\n",
       " 'idx': 7}"
      ]
     },
     "execution_count": 8,
     "metadata": {
      "application/json": {
       "expanded": false,
       "root": "dc_0"
      }
     },
     "output_type": "execute_result"
    }
   ],
   "source": [
    "ol.mem_dict['dc_0']"
   ]
  },
  {
   "cell_type": "markdown",
   "metadata": {},
   "source": [
    "Again, the entries are primarily to support the low-levels of PYNQ and generally won't be needed in user code except to enumerate the streams in the system. Higher-level contructs are available through the Overlay class once the bitstream is loaded and these will be dicussed in the _Memories and Streams_ notebook in the kernel optimisation folder.\n",
    "\n",
    "Copyright (C) 2020 Xilinx, Inc"
   ]
  }
 ],
 "metadata": {
  "kernelspec": {
   "display_name": "Python 3",
   "language": "python",
   "name": "python3"
  },
  "language_info": {
   "codemirror_mode": {
    "name": "ipython",
    "version": 3
   },
   "file_extension": ".py",
   "mimetype": "text/x-python",
   "name": "python",
   "nbconvert_exporter": "python",
   "pygments_lexer": "ipython3",
   "version": "3.7.4"
  }
 },
 "nbformat": 4,
 "nbformat_minor": 4
}
