{
 "cells": [
  {
   "cell_type": "code",
   "execution_count": 1,
   "metadata": {},
   "outputs": [],
   "source": [
    "import sympy\n",
    "import numpy\n",
    "import suncal\n",
    "sympy.init_printing()"
   ]
  },
  {
   "cell_type": "markdown",
   "metadata": {},
   "source": [
    "# Function Options\n",
    "\n",
    "## Strings\n",
    "\n",
    "String expressions can be entered, with basic functions (sin, cos, exp, log, etc.) recognized. The string must by \"sympifyable\". Note: powers can be entered using python syntax of `x**2` or carat syntax `x^2`."
   ]
  },
  {
   "cell_type": "code",
   "execution_count": 2,
   "metadata": {},
   "outputs": [
    {
     "data": {
      "text/markdown": [
       "$\\sqrt{a^{2} + b^{2}}$\n",
       "\n",
       "\n",
       "Method             | Mean      | Standard Uncertainty  \n",
       "------------------|---------|----------------------\n",
       "GUM Approximation  | 40.00   | 0.50               \n",
       "Monte Carlo        | 40.00   | 0.50"
      ],
      "text/plain": [
       "$\\sqrt{a^{2} + b^{2}}$\n",
       "\n",
       "\n",
       "Method             | Mean      | Standard Uncertainty  \n",
       "------------------|---------|----------------------\n",
       "GUM Approximation  | 40.00   | 0.50               \n",
       "Monte Carlo        | 40.00   | 0.50"
      ]
     },
     "execution_count": 2,
     "metadata": {},
     "output_type": "execute_result"
    }
   ],
   "source": [
    "# String\n",
    "fstr = 'sqrt(a**2 + b**2)'\n",
    "\n",
    "inputs = [{'name':'a', 'nom':24, 'uncerts':[{'std':.5}]},\n",
    "          {'name':'b', 'nom':32, 'uncerts':[{'std':.5}]}]\n",
    "u = suncal.UncertCalc(fstr, inputs=inputs)\n",
    "u.calculate()"
   ]
  },
  {
   "cell_type": "code",
   "execution_count": 3,
   "metadata": {},
   "outputs": [
    {
     "data": {
      "image/png": "[encoded data removed]",
      "text/latex": [
       "$$\\sqrt{a^{2} + b^{2}}$$"
      ],
      "text/plain": [
       "   _________\n",
       "  ╱  2    2 \n",
       "╲╱  a  + b  "
      ]
     },
     "execution_count": 3,
     "metadata": {},
     "output_type": "execute_result"
    }
   ],
   "source": [
    "# String gets converted to sympy object internally.\n",
    "u.functions[0].function"
   ]
  },
  {
   "cell_type": "markdown",
   "metadata": {},
   "source": [
    "## Sympy Objects\n",
    "A sympy expression can also be used as the input function. This allows more algebraic manipulation before using in the calculator."
   ]
  },
  {
   "cell_type": "code",
   "execution_count": 4,
   "metadata": {},
   "outputs": [
    {
     "data": {
      "image/png": "[encoded data removed]",
      "text/latex": [
       "$$\\frac{\\sqrt{a b}}{\\sqrt{\\pi}}$$"
      ],
      "text/plain": [
       "  _____\n",
       "╲╱ a⋅b \n",
       "───────\n",
       "   √π  "
      ]
     },
     "execution_count": 4,
     "metadata": {},
     "output_type": "execute_result"
    }
   ],
   "source": [
    "a, b = sympy.symbols('a, b')\n",
    "fsym = sympy.sqrt(a * b / sympy.pi)\n",
    "fsym"
   ]
  },
  {
   "cell_type": "code",
   "execution_count": 5,
   "metadata": {},
   "outputs": [
    {
     "data": {
      "text/markdown": [
       "$\\frac{\\sqrt{a b}}{\\sqrt{\\pi}}$\n",
       "\n",
       "\n",
       "Method             | Mean      | Standard Uncertainty  \n",
       "------------------|---------|----------------------\n",
       "GUM Approximation  | 15.64   | 0.20               \n",
       "Monte Carlo        | 15.63   | 0.20"
      ],
      "text/plain": [
       "$\\frac{\\sqrt{a b}}{\\sqrt{\\pi}}$\n",
       "\n",
       "\n",
       "Method             | Mean      | Standard Uncertainty  \n",
       "------------------|---------|----------------------\n",
       "GUM Approximation  | 15.64   | 0.20               \n",
       "Monte Carlo        | 15.63   | 0.20"
      ]
     },
     "execution_count": 5,
     "metadata": {},
     "output_type": "execute_result"
    }
   ],
   "source": [
    "u = suncal.UncertCalc(fsym, inputs=inputs)\n",
    "u.calculate()"
   ]
  },
  {
   "cell_type": "markdown",
   "metadata": {},
   "source": [
    "## Python callables\n",
    "Callable python functions may also be used. Function arguments must match input names defined in the calculator. "
   ]
  },
  {
   "cell_type": "code",
   "execution_count": 6,
   "metadata": {},
   "outputs": [
    {
     "data": {
      "text/markdown": [
       "$myfunc$\n",
       "\n",
       "\n",
       "Method             | Mean      | Standard Uncertainty  \n",
       "------------------|---------|----------------------\n",
       "GUM Approximation  | 778   | 20               \n",
       "Monte Carlo        | 778   | 20"
      ],
      "text/plain": [
       "$myfunc$\n",
       "\n",
       "\n",
       "Method             | Mean      | Standard Uncertainty  \n",
       "------------------|---------|----------------------\n",
       "GUM Approximation  | 778   | 20               \n",
       "Monte Carlo        | 778   | 20"
      ]
     },
     "execution_count": 6,
     "metadata": {},
     "output_type": "execute_result"
    }
   ],
   "source": [
    "def myfunc(a, b):\n",
    "    return a * b + 10\n",
    "\n",
    "u = suncal.UncertCalc(myfunc, inputs=inputs)\n",
    "u.calculate()"
   ]
  },
  {
   "cell_type": "markdown",
   "metadata": {},
   "source": [
    "### Callable with kwargs\n",
    "Callables can also take variable keyword arguments (`**kwargs`) if the kwnames parameter is specified. The function must be added using set_function(). Be careful when using units, as the conversions may not happen automatically inside the function (notice the UnitStrippedWarning)."
   ]
  },
  {
   "cell_type": "code",
   "execution_count": 7,
   "metadata": {},
   "outputs": [
    {
     "name": "stderr",
     "output_type": "stream",
     "text": [
      "/Users/cjdelke/miniconda3/envs/uncertosx/lib/python3.7/site-packages/pint/quantity.py:1377: UnitStrippedWarning: The unit of the quantity is stripped.\n",
      "  warnings.warn(\"The unit of the quantity is stripped.\", UnitStrippedWarning)\n",
      "/Users/cjdelke/miniconda3/envs/uncertosx/lib/python3.7/site-packages/pint/quantity.py:1377: UnitStrippedWarning: The unit of the quantity is stripped.\n",
      "  warnings.warn(\"The unit of the quantity is stripped.\", UnitStrippedWarning)\n"
     ]
    },
    {
     "data": {
      "text/markdown": [
       "$myfunc2$\n",
       "\n",
       "\n",
       "Method             | Mean      | Standard Uncertainty  \n",
       "------------------|---------|----------------------\n",
       "GUM Approximation  | 5.00   | 0.10               \n",
       "Monte Carlo        | 5.00   | 0.100"
      ],
      "text/plain": [
       "$myfunc2$\n",
       "\n",
       "\n",
       "Method             | Mean      | Standard Uncertainty  \n",
       "------------------|---------|----------------------\n",
       "GUM Approximation  | 5.00   | 0.10               \n",
       "Monte Carlo        | 5.00   | 0.100"
      ]
     },
     "execution_count": 7,
     "metadata": {},
     "output_type": "execute_result"
    }
   ],
   "source": [
    "def myfunc2(**kwargs):\n",
    "    X = numpy.array(list(kwargs.values()))\n",
    "    return X.sum() / len(X)\n",
    "\n",
    "data = {'X1':2, 'X2':4, 'X3':6, 'X4':8}\n",
    "\n",
    "u = suncal.UncertCalc(samples=1000)\n",
    "u.set_function(myfunc2, kwnames=data.keys())  # Must specify names of keyword arguments\n",
    "for i, xval in enumerate([2, 4, 6, 8]):\n",
    "    u.set_input('X{}'.format(i+1), nom=xval)\n",
    "    u.set_uncert('X{}'.format(i+1), std=.2)\n",
    "    \n",
    "u.calculate()"
   ]
  },
  {
   "cell_type": "markdown",
   "metadata": {},
   "source": [
    "### More notes on python callable functions\n",
    "\n",
    "- Monte Carlo calculation will be much faster if the callable function is vectorizable. If not, the calculator will resort to calling the function N times. (Note the reduced samples in the example above.)\n",
    "- The gradients used in the GUM calculation will be solved numerically. Thus the derivation report will not be available for callable functions."
   ]
  },
  {
   "cell_type": "code",
   "execution_count": null,
   "metadata": {},
   "outputs": [],
   "source": []
  }
 ],
 "metadata": {
  "kernelspec": {
   "display_name": "uncertosx",
   "language": "python",
   "name": "uncertosx"
  },
  "language_info": {
   "codemirror_mode": {
    "name": "ipython",
    "version": 3
   },
   "file_extension": ".py",
   "mimetype": "text/x-python",
   "name": "python",
   "nbconvert_exporter": "python",
   "pygments_lexer": "ipython3",
   "version": "3.7.3"
  }
 },
 "nbformat": 4,
 "nbformat_minor": 4
}
